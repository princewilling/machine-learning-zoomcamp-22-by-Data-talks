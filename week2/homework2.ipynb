{
 "cells": [
  {
   "cell_type": "markdown",
   "id": "3349ff40",
   "metadata": {},
   "source": [
    "## Predicting House Prices"
   ]
  },
  {
   "cell_type": "markdown",
   "id": "628cdd0d",
   "metadata": {},
   "source": [
    "In this notebook i'll be implementing a linear regression model for predicting housing prices."
   ]
  },
  {
   "cell_type": "code",
   "execution_count": 1,
   "id": "0e94a2d3",
   "metadata": {},
   "outputs": [],
   "source": [
    "# import necessary libraries\n",
    "import numpy as np\n",
    "import pandas as pd\n",
    "import matplotlib.pyplot as plt\n",
    "import seaborn as sns"
   ]
  },
  {
   "cell_type": "markdown",
   "id": "bff2a1f5",
   "metadata": {},
   "source": [
    "### load the dataset"
   ]
  },
  {
   "cell_type": "code",
   "execution_count": 2,
   "id": "3db4c0f6",
   "metadata": {},
   "outputs": [],
   "source": [
    "data = pd.read_csv('housing.csv')"
   ]
  },
  {
   "cell_type": "code",
   "execution_count": 3,
   "id": "e2a7a2b9",
   "metadata": {},
   "outputs": [
    {
     "data": {
      "text/html": [
       "<div>\n",
       "<style scoped>\n",
       "    .dataframe tbody tr th:only-of-type {\n",
       "        vertical-align: middle;\n",
       "    }\n",
       "\n",
       "    .dataframe tbody tr th {\n",
       "        vertical-align: top;\n",
       "    }\n",
       "\n",
       "    .dataframe thead th {\n",
       "        text-align: right;\n",
       "    }\n",
       "</style>\n",
       "<table border=\"1\" class=\"dataframe\">\n",
       "  <thead>\n",
       "    <tr style=\"text-align: right;\">\n",
       "      <th></th>\n",
       "      <th>longitude</th>\n",
       "      <th>latitude</th>\n",
       "      <th>housing_median_age</th>\n",
       "      <th>total_rooms</th>\n",
       "      <th>total_bedrooms</th>\n",
       "      <th>population</th>\n",
       "      <th>households</th>\n",
       "      <th>median_income</th>\n",
       "      <th>median_house_value</th>\n",
       "      <th>ocean_proximity</th>\n",
       "    </tr>\n",
       "  </thead>\n",
       "  <tbody>\n",
       "    <tr>\n",
       "      <th>3780</th>\n",
       "      <td>-118.39</td>\n",
       "      <td>34.17</td>\n",
       "      <td>26.0</td>\n",
       "      <td>6429.0</td>\n",
       "      <td>1611.0</td>\n",
       "      <td>2806.0</td>\n",
       "      <td>1491.0</td>\n",
       "      <td>3.1929</td>\n",
       "      <td>265200.0</td>\n",
       "      <td>&lt;1H OCEAN</td>\n",
       "    </tr>\n",
       "    <tr>\n",
       "      <th>7206</th>\n",
       "      <td>-118.18</td>\n",
       "      <td>34.02</td>\n",
       "      <td>33.0</td>\n",
       "      <td>832.0</td>\n",
       "      <td>226.0</td>\n",
       "      <td>987.0</td>\n",
       "      <td>220.0</td>\n",
       "      <td>3.0972</td>\n",
       "      <td>125000.0</td>\n",
       "      <td>&lt;1H OCEAN</td>\n",
       "    </tr>\n",
       "    <tr>\n",
       "      <th>14474</th>\n",
       "      <td>-117.23</td>\n",
       "      <td>32.85</td>\n",
       "      <td>25.0</td>\n",
       "      <td>4229.0</td>\n",
       "      <td>601.0</td>\n",
       "      <td>1634.0</td>\n",
       "      <td>574.0</td>\n",
       "      <td>6.3955</td>\n",
       "      <td>316700.0</td>\n",
       "      <td>NEAR OCEAN</td>\n",
       "    </tr>\n",
       "    <tr>\n",
       "      <th>12403</th>\n",
       "      <td>-116.25</td>\n",
       "      <td>33.69</td>\n",
       "      <td>5.0</td>\n",
       "      <td>1664.0</td>\n",
       "      <td>444.0</td>\n",
       "      <td>907.0</td>\n",
       "      <td>374.0</td>\n",
       "      <td>2.7667</td>\n",
       "      <td>92900.0</td>\n",
       "      <td>INLAND</td>\n",
       "    </tr>\n",
       "    <tr>\n",
       "      <th>14513</th>\n",
       "      <td>-117.15</td>\n",
       "      <td>32.91</td>\n",
       "      <td>10.0</td>\n",
       "      <td>2349.0</td>\n",
       "      <td>431.0</td>\n",
       "      <td>1598.0</td>\n",
       "      <td>435.0</td>\n",
       "      <td>4.8229</td>\n",
       "      <td>183200.0</td>\n",
       "      <td>&lt;1H OCEAN</td>\n",
       "    </tr>\n",
       "  </tbody>\n",
       "</table>\n",
       "</div>"
      ],
      "text/plain": [
       "       longitude  latitude  housing_median_age  total_rooms  total_bedrooms  \\\n",
       "3780     -118.39     34.17                26.0       6429.0          1611.0   \n",
       "7206     -118.18     34.02                33.0        832.0           226.0   \n",
       "14474    -117.23     32.85                25.0       4229.0           601.0   \n",
       "12403    -116.25     33.69                 5.0       1664.0           444.0   \n",
       "14513    -117.15     32.91                10.0       2349.0           431.0   \n",
       "\n",
       "       population  households  median_income  median_house_value  \\\n",
       "3780       2806.0      1491.0         3.1929            265200.0   \n",
       "7206        987.0       220.0         3.0972            125000.0   \n",
       "14474      1634.0       574.0         6.3955            316700.0   \n",
       "12403       907.0       374.0         2.7667             92900.0   \n",
       "14513      1598.0       435.0         4.8229            183200.0   \n",
       "\n",
       "      ocean_proximity  \n",
       "3780        <1H OCEAN  \n",
       "7206        <1H OCEAN  \n",
       "14474      NEAR OCEAN  \n",
       "12403          INLAND  \n",
       "14513       <1H OCEAN  "
      ]
     },
     "execution_count": 3,
     "metadata": {},
     "output_type": "execute_result"
    }
   ],
   "source": [
    "#sanple\n",
    "data.sample(5)"
   ]
  },
  {
   "cell_type": "markdown",
   "id": "3a4dfbb5",
   "metadata": {},
   "source": [
    "### clean the data"
   ]
  },
  {
   "cell_type": "markdown",
   "id": "f3d6aba9",
   "metadata": {},
   "source": [
    "The column headers are properly sorted but let's convert all string data to lower case to ensure uniformity"
   ]
  },
  {
   "cell_type": "code",
   "execution_count": 4,
   "id": "a0638c05",
   "metadata": {},
   "outputs": [
    {
     "data": {
      "text/plain": [
       "Index(['ocean_proximity'], dtype='object')"
      ]
     },
     "execution_count": 4,
     "metadata": {},
     "output_type": "execute_result"
    }
   ],
   "source": [
    "data.dtypes[data.dtypes == 'object'].index"
   ]
  },
  {
   "cell_type": "code",
   "execution_count": 5,
   "id": "04c3091f",
   "metadata": {},
   "outputs": [],
   "source": [
    "#convert all strings to lower case and remove spacing\n",
    "data[\"ocean_proximity\"] = data[\"ocean_proximity\"].str.lower().str.replace(' ', '_').replace('<1h_ocean', 'less_than_hundred_mile_to_ocean')"
   ]
  },
  {
   "cell_type": "code",
   "execution_count": 6,
   "id": "6c04ac1e",
   "metadata": {},
   "outputs": [
    {
     "data": {
      "text/html": [
       "<div>\n",
       "<style scoped>\n",
       "    .dataframe tbody tr th:only-of-type {\n",
       "        vertical-align: middle;\n",
       "    }\n",
       "\n",
       "    .dataframe tbody tr th {\n",
       "        vertical-align: top;\n",
       "    }\n",
       "\n",
       "    .dataframe thead th {\n",
       "        text-align: right;\n",
       "    }\n",
       "</style>\n",
       "<table border=\"1\" class=\"dataframe\">\n",
       "  <thead>\n",
       "    <tr style=\"text-align: right;\">\n",
       "      <th></th>\n",
       "      <th>longitude</th>\n",
       "      <th>latitude</th>\n",
       "      <th>housing_median_age</th>\n",
       "      <th>total_rooms</th>\n",
       "      <th>total_bedrooms</th>\n",
       "      <th>population</th>\n",
       "      <th>households</th>\n",
       "      <th>median_income</th>\n",
       "      <th>median_house_value</th>\n",
       "      <th>ocean_proximity</th>\n",
       "    </tr>\n",
       "  </thead>\n",
       "  <tbody>\n",
       "    <tr>\n",
       "      <th>18020</th>\n",
       "      <td>-121.95</td>\n",
       "      <td>37.24</td>\n",
       "      <td>32.0</td>\n",
       "      <td>1382.0</td>\n",
       "      <td>239.0</td>\n",
       "      <td>705.0</td>\n",
       "      <td>251.0</td>\n",
       "      <td>6.0957</td>\n",
       "      <td>405400.0</td>\n",
       "      <td>less_than_hundred_mile_to_ocean</td>\n",
       "    </tr>\n",
       "    <tr>\n",
       "      <th>10631</th>\n",
       "      <td>-117.79</td>\n",
       "      <td>33.73</td>\n",
       "      <td>3.0</td>\n",
       "      <td>8240.0</td>\n",
       "      <td>1410.0</td>\n",
       "      <td>3318.0</td>\n",
       "      <td>1270.0</td>\n",
       "      <td>7.2074</td>\n",
       "      <td>291300.0</td>\n",
       "      <td>less_than_hundred_mile_to_ocean</td>\n",
       "    </tr>\n",
       "    <tr>\n",
       "      <th>10793</th>\n",
       "      <td>-117.92</td>\n",
       "      <td>33.62</td>\n",
       "      <td>35.0</td>\n",
       "      <td>1821.0</td>\n",
       "      <td>335.0</td>\n",
       "      <td>727.0</td>\n",
       "      <td>316.0</td>\n",
       "      <td>6.5842</td>\n",
       "      <td>458500.0</td>\n",
       "      <td>less_than_hundred_mile_to_ocean</td>\n",
       "    </tr>\n",
       "    <tr>\n",
       "      <th>9618</th>\n",
       "      <td>-120.46</td>\n",
       "      <td>37.29</td>\n",
       "      <td>30.0</td>\n",
       "      <td>2972.0</td>\n",
       "      <td>635.0</td>\n",
       "      <td>1940.0</td>\n",
       "      <td>590.0</td>\n",
       "      <td>2.3594</td>\n",
       "      <td>72300.0</td>\n",
       "      <td>inland</td>\n",
       "    </tr>\n",
       "    <tr>\n",
       "      <th>14250</th>\n",
       "      <td>-117.09</td>\n",
       "      <td>32.72</td>\n",
       "      <td>33.0</td>\n",
       "      <td>1096.0</td>\n",
       "      <td>240.0</td>\n",
       "      <td>716.0</td>\n",
       "      <td>224.0</td>\n",
       "      <td>1.6944</td>\n",
       "      <td>111800.0</td>\n",
       "      <td>near_ocean</td>\n",
       "    </tr>\n",
       "    <tr>\n",
       "      <th>16346</th>\n",
       "      <td>-121.34</td>\n",
       "      <td>38.03</td>\n",
       "      <td>12.0</td>\n",
       "      <td>2707.0</td>\n",
       "      <td>433.0</td>\n",
       "      <td>1200.0</td>\n",
       "      <td>380.0</td>\n",
       "      <td>4.9861</td>\n",
       "      <td>133500.0</td>\n",
       "      <td>inland</td>\n",
       "    </tr>\n",
       "  </tbody>\n",
       "</table>\n",
       "</div>"
      ],
      "text/plain": [
       "       longitude  latitude  housing_median_age  total_rooms  total_bedrooms  \\\n",
       "18020    -121.95     37.24                32.0       1382.0           239.0   \n",
       "10631    -117.79     33.73                 3.0       8240.0          1410.0   \n",
       "10793    -117.92     33.62                35.0       1821.0           335.0   \n",
       "9618     -120.46     37.29                30.0       2972.0           635.0   \n",
       "14250    -117.09     32.72                33.0       1096.0           240.0   \n",
       "16346    -121.34     38.03                12.0       2707.0           433.0   \n",
       "\n",
       "       population  households  median_income  median_house_value  \\\n",
       "18020       705.0       251.0         6.0957            405400.0   \n",
       "10631      3318.0      1270.0         7.2074            291300.0   \n",
       "10793       727.0       316.0         6.5842            458500.0   \n",
       "9618       1940.0       590.0         2.3594             72300.0   \n",
       "14250       716.0       224.0         1.6944            111800.0   \n",
       "16346      1200.0       380.0         4.9861            133500.0   \n",
       "\n",
       "                       ocean_proximity  \n",
       "18020  less_than_hundred_mile_to_ocean  \n",
       "10631  less_than_hundred_mile_to_ocean  \n",
       "10793  less_than_hundred_mile_to_ocean  \n",
       "9618                            inland  \n",
       "14250                       near_ocean  \n",
       "16346                           inland  "
      ]
     },
     "execution_count": 6,
     "metadata": {},
     "output_type": "execute_result"
    }
   ],
   "source": [
    "# select random sample\n",
    "data.sample(6)"
   ]
  },
  {
   "cell_type": "markdown",
   "id": "7cea2b6c",
   "metadata": {},
   "source": [
    "### EDA"
   ]
  },
  {
   "cell_type": "code",
   "execution_count": 7,
   "id": "3e603256",
   "metadata": {
    "scrolled": true
   },
   "outputs": [
    {
     "data": {
      "image/png": "[encoded data removed]",
      "text/plain": [
       "<Figure size 432x288 with 1 Axes>"
      ]
     },
     "metadata": {
      "needs_background": "light"
     },
     "output_type": "display_data"
    }
   ],
   "source": [
    "# checking the median house value column\n",
    "sns.histplot(data['median_house_value'], bins=50);"
   ]
  },
  {
   "cell_type": "markdown",
   "id": "72776d08",
   "metadata": {},
   "source": [
    "the plot doesn't portray a long tail distribution. it'd be best to get the log values of the data"
   ]
  },
  {
   "cell_type": "code",
   "execution_count": 8,
   "id": "f7bb2ec8",
   "metadata": {},
   "outputs": [],
   "source": [
    "median_house_value_log_vals = np.log1p(data['median_house_value'])"
   ]
  },
  {
   "cell_type": "code",
   "execution_count": 9,
   "id": "0ba511a6",
   "metadata": {},
   "outputs": [
    {
     "data": {
      "image/png": "[encoded data removed]",
      "text/plain": [
       "<Figure size 432x288 with 1 Axes>"
      ]
     },
     "metadata": {
      "needs_background": "light"
     },
     "output_type": "display_data"
    }
   ],
   "source": [
    "plt.hist(median_house_value_log_vals, bins=40);\n",
    "plt.title('median_house_value');\n",
    "plt.xlabel('median_house_value');\n",
    "plt.ylabel('counts');"
   ]
  },
  {
   "cell_type": "code",
   "execution_count": 10,
   "id": "7387c1e7",
   "metadata": {},
   "outputs": [],
   "source": [
    "# columns of intrest\n",
    "columns = ['longitude', 'latitude', 'housing_median_age', 'total_rooms','total_bedrooms', 'population', 'households', 'median_income','median_house_value']"
   ]
  },
  {
   "cell_type": "code",
   "execution_count": 11,
   "id": "7f7c59d5",
   "metadata": {},
   "outputs": [],
   "source": [
    "df = data[columns].copy() "
   ]
  },
  {
   "cell_type": "code",
   "execution_count": 12,
   "id": "353e5ce2",
   "metadata": {},
   "outputs": [
    {
     "data": {
      "text/html": [
       "<div>\n",
       "<style scoped>\n",
       "    .dataframe tbody tr th:only-of-type {\n",
       "        vertical-align: middle;\n",
       "    }\n",
       "\n",
       "    .dataframe tbody tr th {\n",
       "        vertical-align: top;\n",
       "    }\n",
       "\n",
       "    .dataframe thead th {\n",
       "        text-align: right;\n",
       "    }\n",
       "</style>\n",
       "<table border=\"1\" class=\"dataframe\">\n",
       "  <thead>\n",
       "    <tr style=\"text-align: right;\">\n",
       "      <th></th>\n",
       "      <th>longitude</th>\n",
       "      <th>latitude</th>\n",
       "      <th>housing_median_age</th>\n",
       "      <th>total_rooms</th>\n",
       "      <th>total_bedrooms</th>\n",
       "      <th>population</th>\n",
       "      <th>households</th>\n",
       "      <th>median_income</th>\n",
       "      <th>median_house_value</th>\n",
       "    </tr>\n",
       "  </thead>\n",
       "  <tbody>\n",
       "    <tr>\n",
       "      <th>0</th>\n",
       "      <td>-122.23</td>\n",
       "      <td>37.88</td>\n",
       "      <td>41.0</td>\n",
       "      <td>880.0</td>\n",
       "      <td>129.0</td>\n",
       "      <td>322.0</td>\n",
       "      <td>126.0</td>\n",
       "      <td>8.3252</td>\n",
       "      <td>452600.0</td>\n",
       "    </tr>\n",
       "    <tr>\n",
       "      <th>1</th>\n",
       "      <td>-122.22</td>\n",
       "      <td>37.86</td>\n",
       "      <td>21.0</td>\n",
       "      <td>7099.0</td>\n",
       "      <td>1106.0</td>\n",
       "      <td>2401.0</td>\n",
       "      <td>1138.0</td>\n",
       "      <td>8.3014</td>\n",
       "      <td>358500.0</td>\n",
       "    </tr>\n",
       "    <tr>\n",
       "      <th>2</th>\n",
       "      <td>-122.24</td>\n",
       "      <td>37.85</td>\n",
       "      <td>52.0</td>\n",
       "      <td>1467.0</td>\n",
       "      <td>190.0</td>\n",
       "      <td>496.0</td>\n",
       "      <td>177.0</td>\n",
       "      <td>7.2574</td>\n",
       "      <td>352100.0</td>\n",
       "    </tr>\n",
       "    <tr>\n",
       "      <th>3</th>\n",
       "      <td>-122.25</td>\n",
       "      <td>37.85</td>\n",
       "      <td>52.0</td>\n",
       "      <td>1274.0</td>\n",
       "      <td>235.0</td>\n",
       "      <td>558.0</td>\n",
       "      <td>219.0</td>\n",
       "      <td>5.6431</td>\n",
       "      <td>341300.0</td>\n",
       "    </tr>\n",
       "    <tr>\n",
       "      <th>4</th>\n",
       "      <td>-122.25</td>\n",
       "      <td>37.85</td>\n",
       "      <td>52.0</td>\n",
       "      <td>1627.0</td>\n",
       "      <td>280.0</td>\n",
       "      <td>565.0</td>\n",
       "      <td>259.0</td>\n",
       "      <td>3.8462</td>\n",
       "      <td>342200.0</td>\n",
       "    </tr>\n",
       "  </tbody>\n",
       "</table>\n",
       "</div>"
      ],
      "text/plain": [
       "   longitude  latitude  housing_median_age  total_rooms  total_bedrooms  \\\n",
       "0    -122.23     37.88                41.0        880.0           129.0   \n",
       "1    -122.22     37.86                21.0       7099.0          1106.0   \n",
       "2    -122.24     37.85                52.0       1467.0           190.0   \n",
       "3    -122.25     37.85                52.0       1274.0           235.0   \n",
       "4    -122.25     37.85                52.0       1627.0           280.0   \n",
       "\n",
       "   population  households  median_income  median_house_value  \n",
       "0       322.0       126.0         8.3252            452600.0  \n",
       "1      2401.0      1138.0         8.3014            358500.0  \n",
       "2       496.0       177.0         7.2574            352100.0  \n",
       "3       558.0       219.0         5.6431            341300.0  \n",
       "4       565.0       259.0         3.8462            342200.0  "
      ]
     },
     "execution_count": 12,
     "metadata": {},
     "output_type": "execute_result"
    }
   ],
   "source": [
    "df.head()"
   ]
  },
  {
   "cell_type": "code",
   "execution_count": 13,
   "id": "2bfa727e",
   "metadata": {},
   "outputs": [
    {
     "data": {
      "text/plain": [
       "longitude               0\n",
       "latitude                0\n",
       "housing_median_age      0\n",
       "total_rooms             0\n",
       "total_bedrooms        207\n",
       "population              0\n",
       "households              0\n",
       "median_income           0\n",
       "median_house_value      0\n",
       "dtype: int64"
      ]
     },
     "execution_count": 13,
     "metadata": {},
     "output_type": "execute_result"
    }
   ],
   "source": [
    "df.isnull().sum()"
   ]
  },
  {
   "cell_type": "markdown",
   "id": "5bdec39c",
   "metadata": {},
   "source": [
    "variable with missing value is **total_bedrooms** with **207** values missing"
   ]
  },
  {
   "cell_type": "code",
   "execution_count": 14,
   "id": "5d437637",
   "metadata": {},
   "outputs": [
    {
     "data": {
      "text/plain": [
       "1166.0"
      ]
     },
     "execution_count": 14,
     "metadata": {},
     "output_type": "execute_result"
    }
   ],
   "source": [
    "np.median(df['population'])"
   ]
  },
  {
   "cell_type": "markdown",
   "id": "cfd297df",
   "metadata": {},
   "source": [
    "The **median** for the population column is **1166**"
   ]
  },
  {
   "cell_type": "markdown",
   "id": "ef67f8d8",
   "metadata": {},
   "source": [
    "### splitting the dataset"
   ]
  },
  {
   "cell_type": "markdown",
   "id": "5ce67781",
   "metadata": {},
   "source": [
    "Split into 60%(train) 20%(val) 20%(test)"
   ]
  },
  {
   "cell_type": "code",
   "execution_count": 15,
   "id": "73535d73",
   "metadata": {},
   "outputs": [
    {
     "data": {
      "text/plain": [
       "(20640, 4128, 4128, 12384)"
      ]
     },
     "execution_count": 15,
     "metadata": {},
     "output_type": "execute_result"
    }
   ],
   "source": [
    "data = len(df)\n",
    "\n",
    "val_data = int(data * 0.2)\n",
    "test_data = int(data * 0.2)\n",
    "train_data = data - val_data - test_data\n",
    "\n",
    "data, val_data, test_data, train_data"
   ]
  },
  {
   "cell_type": "code",
   "execution_count": 16,
   "id": "63c4ae6a",
   "metadata": {},
   "outputs": [],
   "source": [
    "idx = np.arange(data)"
   ]
  },
  {
   "cell_type": "code",
   "execution_count": 17,
   "id": "854ca68a",
   "metadata": {},
   "outputs": [],
   "source": [
    "np.random.seed(42)\n",
    "np.random.shuffle(idx)"
   ]
  },
  {
   "cell_type": "code",
   "execution_count": 18,
   "id": "1ed15cfd",
   "metadata": {},
   "outputs": [
    {
     "data": {
      "text/plain": [
       "((12384, 9), (4128, 9), (4128, 9))"
      ]
     },
     "execution_count": 18,
     "metadata": {},
     "output_type": "execute_result"
    }
   ],
   "source": [
    "# splitting here\n",
    "data_train = df.iloc[idx[:train_data]]\n",
    "data_val = df.iloc[idx[train_data:train_data+val_data]]\n",
    "data_test = df.iloc[idx[train_data+val_data:]]\n",
    "\n",
    "data_train.shape, data_test.shape, data_val.shape"
   ]
  },
  {
   "cell_type": "code",
   "execution_count": 19,
   "id": "7d8e8561",
   "metadata": {},
   "outputs": [
    {
     "data": {
      "text/html": [
       "<div>\n",
       "<style scoped>\n",
       "    .dataframe tbody tr th:only-of-type {\n",
       "        vertical-align: middle;\n",
       "    }\n",
       "\n",
       "    .dataframe tbody tr th {\n",
       "        vertical-align: top;\n",
       "    }\n",
       "\n",
       "    .dataframe thead th {\n",
       "        text-align: right;\n",
       "    }\n",
       "</style>\n",
       "<table border=\"1\" class=\"dataframe\">\n",
       "  <thead>\n",
       "    <tr style=\"text-align: right;\">\n",
       "      <th></th>\n",
       "      <th>longitude</th>\n",
       "      <th>latitude</th>\n",
       "      <th>housing_median_age</th>\n",
       "      <th>total_rooms</th>\n",
       "      <th>total_bedrooms</th>\n",
       "      <th>population</th>\n",
       "      <th>households</th>\n",
       "      <th>median_income</th>\n",
       "      <th>median_house_value</th>\n",
       "    </tr>\n",
       "  </thead>\n",
       "  <tbody>\n",
       "    <tr>\n",
       "      <th>15548</th>\n",
       "      <td>-117.09</td>\n",
       "      <td>33.12</td>\n",
       "      <td>11.0</td>\n",
       "      <td>567.0</td>\n",
       "      <td>184.0</td>\n",
       "      <td>620.0</td>\n",
       "      <td>163.0</td>\n",
       "      <td>2.5284</td>\n",
       "      <td>122500.0</td>\n",
       "    </tr>\n",
       "    <tr>\n",
       "      <th>18424</th>\n",
       "      <td>-121.81</td>\n",
       "      <td>37.25</td>\n",
       "      <td>12.0</td>\n",
       "      <td>2070.0</td>\n",
       "      <td>587.0</td>\n",
       "      <td>1216.0</td>\n",
       "      <td>532.0</td>\n",
       "      <td>4.1926</td>\n",
       "      <td>244500.0</td>\n",
       "    </tr>\n",
       "    <tr>\n",
       "      <th>17054</th>\n",
       "      <td>-122.25</td>\n",
       "      <td>37.47</td>\n",
       "      <td>38.0</td>\n",
       "      <td>645.0</td>\n",
       "      <td>124.0</td>\n",
       "      <td>265.0</td>\n",
       "      <td>103.0</td>\n",
       "      <td>5.4688</td>\n",
       "      <td>305000.0</td>\n",
       "    </tr>\n",
       "    <tr>\n",
       "      <th>16037</th>\n",
       "      <td>-122.46</td>\n",
       "      <td>37.72</td>\n",
       "      <td>45.0</td>\n",
       "      <td>2399.0</td>\n",
       "      <td>419.0</td>\n",
       "      <td>1225.0</td>\n",
       "      <td>399.0</td>\n",
       "      <td>4.0855</td>\n",
       "      <td>244100.0</td>\n",
       "    </tr>\n",
       "    <tr>\n",
       "      <th>4880</th>\n",
       "      <td>-118.25</td>\n",
       "      <td>34.03</td>\n",
       "      <td>52.0</td>\n",
       "      <td>1274.0</td>\n",
       "      <td>418.0</td>\n",
       "      <td>1655.0</td>\n",
       "      <td>368.0</td>\n",
       "      <td>2.1905</td>\n",
       "      <td>124000.0</td>\n",
       "    </tr>\n",
       "  </tbody>\n",
       "</table>\n",
       "</div>"
      ],
      "text/plain": [
       "       longitude  latitude  housing_median_age  total_rooms  total_bedrooms  \\\n",
       "15548    -117.09     33.12                11.0        567.0           184.0   \n",
       "18424    -121.81     37.25                12.0       2070.0           587.0   \n",
       "17054    -122.25     37.47                38.0        645.0           124.0   \n",
       "16037    -122.46     37.72                45.0       2399.0           419.0   \n",
       "4880     -118.25     34.03                52.0       1274.0           418.0   \n",
       "\n",
       "       population  households  median_income  median_house_value  \n",
       "15548       620.0       163.0         2.5284            122500.0  \n",
       "18424      1216.0       532.0         4.1926            244500.0  \n",
       "17054       265.0       103.0         5.4688            305000.0  \n",
       "16037      1225.0       399.0         4.0855            244100.0  \n",
       "4880       1655.0       368.0         2.1905            124000.0  "
      ]
     },
     "execution_count": 19,
     "metadata": {},
     "output_type": "execute_result"
    }
   ],
   "source": [
    "data_train.sample(5)"
   ]
  },
  {
   "cell_type": "code",
   "execution_count": 20,
   "id": "57e135f9",
   "metadata": {},
   "outputs": [],
   "source": [
    "data_train = data_train.reset_index(drop=True)\n",
    "data_val = data_val.reset_index(drop=True)\n",
    "data_test = data_test.reset_index(drop=True)"
   ]
  },
  {
   "cell_type": "code",
   "execution_count": 21,
   "id": "2c02c60b",
   "metadata": {},
   "outputs": [
    {
     "data": {
      "text/html": [
       "<div>\n",
       "<style scoped>\n",
       "    .dataframe tbody tr th:only-of-type {\n",
       "        vertical-align: middle;\n",
       "    }\n",
       "\n",
       "    .dataframe tbody tr th {\n",
       "        vertical-align: top;\n",
       "    }\n",
       "\n",
       "    .dataframe thead th {\n",
       "        text-align: right;\n",
       "    }\n",
       "</style>\n",
       "<table border=\"1\" class=\"dataframe\">\n",
       "  <thead>\n",
       "    <tr style=\"text-align: right;\">\n",
       "      <th></th>\n",
       "      <th>longitude</th>\n",
       "      <th>latitude</th>\n",
       "      <th>housing_median_age</th>\n",
       "      <th>total_rooms</th>\n",
       "      <th>total_bedrooms</th>\n",
       "      <th>population</th>\n",
       "      <th>households</th>\n",
       "      <th>median_income</th>\n",
       "      <th>median_house_value</th>\n",
       "    </tr>\n",
       "  </thead>\n",
       "  <tbody>\n",
       "    <tr>\n",
       "      <th>0</th>\n",
       "      <td>-119.01</td>\n",
       "      <td>36.06</td>\n",
       "      <td>25.0</td>\n",
       "      <td>1505.0</td>\n",
       "      <td>NaN</td>\n",
       "      <td>1392.0</td>\n",
       "      <td>359.0</td>\n",
       "      <td>1.6812</td>\n",
       "      <td>47700.0</td>\n",
       "    </tr>\n",
       "  </tbody>\n",
       "</table>\n",
       "</div>"
      ],
      "text/plain": [
       "   longitude  latitude  housing_median_age  total_rooms  total_bedrooms  \\\n",
       "0    -119.01     36.06                25.0       1505.0             NaN   \n",
       "\n",
       "   population  households  median_income  median_house_value  \n",
       "0      1392.0       359.0         1.6812             47700.0  "
      ]
     },
     "execution_count": 21,
     "metadata": {},
     "output_type": "execute_result"
    }
   ],
   "source": [
    "data_train.head(1)"
   ]
  },
  {
   "cell_type": "code",
   "execution_count": 22,
   "id": "725ee285",
   "metadata": {},
   "outputs": [],
   "source": [
    "y_train = np.log1p(data_train.median_house_value.values)\n",
    "y_val = np.log1p(data_val.median_house_value.values)\n",
    "y_test = np.log1p(data_test.median_house_value.values)"
   ]
  },
  {
   "cell_type": "code",
   "execution_count": 23,
   "id": "ce61c7b3",
   "metadata": {},
   "outputs": [
    {
     "data": {
      "text/plain": [
       "(12384, 4128, 4128)"
      ]
     },
     "execution_count": 23,
     "metadata": {},
     "output_type": "execute_result"
    }
   ],
   "source": [
    "len(y_train), len(y_val), len(y_test)"
   ]
  },
  {
   "cell_type": "code",
   "execution_count": 24,
   "id": "d2088ecf",
   "metadata": {},
   "outputs": [],
   "source": [
    "del data_train[\"median_house_value\"]\n",
    "del data_val[\"median_house_value\"]\n",
    "del data_test[\"median_house_value\"]"
   ]
  },
  {
   "cell_type": "code",
   "execution_count": 25,
   "id": "bf206626",
   "metadata": {},
   "outputs": [
    {
     "data": {
      "text/plain": [
       "array([10.77270764, 10.7320612 , 13.12236738, 12.29500343, 12.53537999,\n",
       "       11.97477721, 12.19703695, 11.96718709, 12.73670384, 13.00942086])"
      ]
     },
     "execution_count": 25,
     "metadata": {},
     "output_type": "execute_result"
    }
   ],
   "source": [
    "y_train[:10]"
   ]
  },
  {
   "cell_type": "markdown",
   "id": "1efb7f40",
   "metadata": {},
   "source": [
    "Handling missing values"
   ]
  },
  {
   "cell_type": "code",
   "execution_count": 26,
   "id": "af933344",
   "metadata": {},
   "outputs": [
    {
     "data": {
      "text/plain": [
       "longitude               0\n",
       "latitude                0\n",
       "housing_median_age      0\n",
       "total_rooms             0\n",
       "total_bedrooms        207\n",
       "population              0\n",
       "households              0\n",
       "median_income           0\n",
       "median_house_value      0\n",
       "dtype: int64"
      ]
     },
     "execution_count": 26,
     "metadata": {},
     "output_type": "execute_result"
    }
   ],
   "source": [
    "df.isnull().sum()"
   ]
  },
  {
   "cell_type": "code",
   "execution_count": 27,
   "id": "74107305",
   "metadata": {},
   "outputs": [],
   "source": [
    "columns = ['longitude', 'latitude', 'housing_median_age', 'total_rooms', 'total_bedrooms', 'population', 'households', 'median_income']"
   ]
  },
  {
   "cell_type": "code",
   "execution_count": 28,
   "id": "de9af91c",
   "metadata": {},
   "outputs": [],
   "source": [
    "# train a model\n",
    "def train_linear_regression(X, y):\n",
    "    ones = np.ones(X.shape[0])\n",
    "    X = np.column_stack([ones, X])\n",
    "\n",
    "    XTX = X.T.dot(X)\n",
    "    XTX_inv = np.linalg.inv(XTX)\n",
    "    w_full = XTX_inv.dot(X.T).dot(y)\n",
    "    \n",
    "    return w_full[0], w_full[1:]"
   ]
  },
  {
   "cell_type": "code",
   "execution_count": 29,
   "id": "bc3d0e5f",
   "metadata": {},
   "outputs": [],
   "source": [
    "def prepare_X(df, fill_with=0):\n",
    "    df_num = df[columns]\n",
    "    df_num = df_num.fillna(fill_with)\n",
    "    X = df_num.values\n",
    "    return X"
   ]
  },
  {
   "cell_type": "code",
   "execution_count": 30,
   "id": "0177636c",
   "metadata": {},
   "outputs": [],
   "source": [
    "# build the rmse\n",
    "def rmse(y, y_pred):\n",
    "    se = (y - y_pred) ** 2\n",
    "    mse = se.mean()\n",
    "    return np.sqrt(mse)"
   ]
  },
  {
   "cell_type": "code",
   "execution_count": 31,
   "id": "f281f779",
   "metadata": {},
   "outputs": [],
   "source": [
    "# filling with 0\n",
    "X_train = prepare_X(data_train,fill_with=0)\n",
    "w0, w = train_linear_regression(X_train, y_train)\n",
    "\n",
    "X_val = prepare_X(data_val)\n",
    "y_pred = w0 + X_val.dot(w)"
   ]
  },
  {
   "cell_type": "code",
   "execution_count": 32,
   "id": "41da7c3a",
   "metadata": {},
   "outputs": [
    {
     "data": {
      "text/plain": [
       "0.33"
      ]
     },
     "execution_count": 32,
     "metadata": {},
     "output_type": "execute_result"
    }
   ],
   "source": [
    "round(rmse(y_val, y_pred), 2)"
   ]
  },
  {
   "cell_type": "markdown",
   "id": "0ab97098",
   "metadata": {},
   "source": [
    "Filling with **zero** gives **0.33**"
   ]
  },
  {
   "cell_type": "code",
   "execution_count": 33,
   "id": "61e19d07",
   "metadata": {},
   "outputs": [
    {
     "data": {
      "text/plain": [
       "533.4803317730147"
      ]
     },
     "execution_count": 33,
     "metadata": {},
     "output_type": "execute_result"
    }
   ],
   "source": [
    "mean_for_bedrooms = data_train['total_bedrooms'].mean()\n",
    "mean_for_bedrooms"
   ]
  },
  {
   "cell_type": "code",
   "execution_count": 34,
   "id": "7cda08dd",
   "metadata": {},
   "outputs": [],
   "source": [
    "# filling with mean\n",
    "X_train = prepare_X(data_train,fill_with=mean_for_bedrooms)\n",
    "w0, w = train_linear_regression(X_train, y_train)\n",
    "\n",
    "X_val = prepare_X(data_val)\n",
    "y_pred = w0 + X_val.dot(w)"
   ]
  },
  {
   "cell_type": "code",
   "execution_count": 35,
   "id": "095e2a6d",
   "metadata": {},
   "outputs": [
    {
     "data": {
      "text/plain": [
       "0.33"
      ]
     },
     "execution_count": 35,
     "metadata": {},
     "output_type": "execute_result"
    }
   ],
   "source": [
    "round(rmse(y_val, y_pred),2)"
   ]
  },
  {
   "cell_type": "markdown",
   "id": "1ce8717e",
   "metadata": {},
   "source": [
    "Filling with **mean of bedrooms** gives **0.33**"
   ]
  },
  {
   "cell_type": "code",
   "execution_count": 36,
   "id": "db5667c8",
   "metadata": {},
   "outputs": [],
   "source": [
    "# Question 4\n",
    "# peforming regularization\n",
    "def train_linear_regression_reg(X, y, r=0.001):\n",
    "    ones = np.ones(X.shape[0])\n",
    "    X = np.column_stack([ones, X])\n",
    "\n",
    "    XTX = X.T.dot(X)\n",
    "    XTX = XTX + r * np.eye(XTX.shape[0])\n",
    "\n",
    "    XTX_inv = np.linalg.inv(XTX)\n",
    "    w_full = XTX_inv.dot(X.T).dot(y)\n",
    "    \n",
    "    return w_full[0], w_full[1:]"
   ]
  },
  {
   "cell_type": "code",
   "execution_count": 37,
   "id": "4be9c462",
   "metadata": {},
   "outputs": [
    {
     "name": "stdout",
     "output_type": "stream",
     "text": [
      "r = 0 and rmse = 0.33\n",
      "r = 1e-06 and rmse = 0.33\n",
      "r = 0.0001 and rmse = 0.33\n",
      "r = 0.001 and rmse = 0.33\n",
      "r = 0.01 and rmse = 0.33\n",
      "r = 0.1 and rmse = 0.33\n",
      "r = 1 and rmse = 0.33\n",
      "r = 5 and rmse = 0.34\n",
      "r = 10 and rmse = 0.34\n"
     ]
    }
   ],
   "source": [
    "X_train = prepare_X(data_train,fill_with=0)\n",
    "for r in [0, 0.000001, 0.0001, 0.001, 0.01, 0.1, 1, 5, 10]:\n",
    "    w0, w = train_linear_regression_reg(X_train, y_train, r=r)\n",
    "\n",
    "    X_val = prepare_X(data_val,fill_with=0)\n",
    "    y_pred = w0 + X_val.dot(w)\n",
    "    score = round(rmse(y_val, y_pred), 2)\n",
    "    \n",
    "    print('r = {} and rmse = {}'.format(r, score))"
   ]
  },
  {
   "cell_type": "code",
   "execution_count": 38,
   "id": "c6af6952",
   "metadata": {},
   "outputs": [],
   "source": [
    "# Question 5\n",
    "seeds = [0, 1, 2, 3, 4, 5, 6, 7, 8, 9]"
   ]
  },
  {
   "cell_type": "code",
   "execution_count": 39,
   "id": "2f9d6178",
   "metadata": {},
   "outputs": [
    {
     "data": {
      "text/plain": [
       "(20640, 4128, 4128, 12384)"
      ]
     },
     "execution_count": 39,
     "metadata": {},
     "output_type": "execute_result"
    }
   ],
   "source": [
    "data, val_data, test_data, train_data"
   ]
  },
  {
   "cell_type": "code",
   "execution_count": 40,
   "id": "a438d824",
   "metadata": {},
   "outputs": [
    {
     "data": {
      "text/html": [
       "<div>\n",
       "<style scoped>\n",
       "    .dataframe tbody tr th:only-of-type {\n",
       "        vertical-align: middle;\n",
       "    }\n",
       "\n",
       "    .dataframe tbody tr th {\n",
       "        vertical-align: top;\n",
       "    }\n",
       "\n",
       "    .dataframe thead th {\n",
       "        text-align: right;\n",
       "    }\n",
       "</style>\n",
       "<table border=\"1\" class=\"dataframe\">\n",
       "  <thead>\n",
       "    <tr style=\"text-align: right;\">\n",
       "      <th></th>\n",
       "      <th>longitude</th>\n",
       "      <th>latitude</th>\n",
       "      <th>housing_median_age</th>\n",
       "      <th>total_rooms</th>\n",
       "      <th>total_bedrooms</th>\n",
       "      <th>population</th>\n",
       "      <th>households</th>\n",
       "      <th>median_income</th>\n",
       "      <th>median_house_value</th>\n",
       "    </tr>\n",
       "  </thead>\n",
       "  <tbody>\n",
       "    <tr>\n",
       "      <th>0</th>\n",
       "      <td>-122.23</td>\n",
       "      <td>37.88</td>\n",
       "      <td>41.0</td>\n",
       "      <td>880.0</td>\n",
       "      <td>129.0</td>\n",
       "      <td>322.0</td>\n",
       "      <td>126.0</td>\n",
       "      <td>8.3252</td>\n",
       "      <td>452600.0</td>\n",
       "    </tr>\n",
       "    <tr>\n",
       "      <th>1</th>\n",
       "      <td>-122.22</td>\n",
       "      <td>37.86</td>\n",
       "      <td>21.0</td>\n",
       "      <td>7099.0</td>\n",
       "      <td>1106.0</td>\n",
       "      <td>2401.0</td>\n",
       "      <td>1138.0</td>\n",
       "      <td>8.3014</td>\n",
       "      <td>358500.0</td>\n",
       "    </tr>\n",
       "    <tr>\n",
       "      <th>2</th>\n",
       "      <td>-122.24</td>\n",
       "      <td>37.85</td>\n",
       "      <td>52.0</td>\n",
       "      <td>1467.0</td>\n",
       "      <td>190.0</td>\n",
       "      <td>496.0</td>\n",
       "      <td>177.0</td>\n",
       "      <td>7.2574</td>\n",
       "      <td>352100.0</td>\n",
       "    </tr>\n",
       "    <tr>\n",
       "      <th>3</th>\n",
       "      <td>-122.25</td>\n",
       "      <td>37.85</td>\n",
       "      <td>52.0</td>\n",
       "      <td>1274.0</td>\n",
       "      <td>235.0</td>\n",
       "      <td>558.0</td>\n",
       "      <td>219.0</td>\n",
       "      <td>5.6431</td>\n",
       "      <td>341300.0</td>\n",
       "    </tr>\n",
       "    <tr>\n",
       "      <th>4</th>\n",
       "      <td>-122.25</td>\n",
       "      <td>37.85</td>\n",
       "      <td>52.0</td>\n",
       "      <td>1627.0</td>\n",
       "      <td>280.0</td>\n",
       "      <td>565.0</td>\n",
       "      <td>259.0</td>\n",
       "      <td>3.8462</td>\n",
       "      <td>342200.0</td>\n",
       "    </tr>\n",
       "  </tbody>\n",
       "</table>\n",
       "</div>"
      ],
      "text/plain": [
       "   longitude  latitude  housing_median_age  total_rooms  total_bedrooms  \\\n",
       "0    -122.23     37.88                41.0        880.0           129.0   \n",
       "1    -122.22     37.86                21.0       7099.0          1106.0   \n",
       "2    -122.24     37.85                52.0       1467.0           190.0   \n",
       "3    -122.25     37.85                52.0       1274.0           235.0   \n",
       "4    -122.25     37.85                52.0       1627.0           280.0   \n",
       "\n",
       "   population  households  median_income  median_house_value  \n",
       "0       322.0       126.0         8.3252            452600.0  \n",
       "1      2401.0      1138.0         8.3014            358500.0  \n",
       "2       496.0       177.0         7.2574            352100.0  \n",
       "3       558.0       219.0         5.6431            341300.0  \n",
       "4       565.0       259.0         3.8462            342200.0  "
      ]
     },
     "execution_count": 40,
     "metadata": {},
     "output_type": "execute_result"
    }
   ],
   "source": [
    "df.head()"
   ]
  },
  {
   "cell_type": "code",
   "execution_count": 41,
   "id": "0a001bb7",
   "metadata": {},
   "outputs": [
    {
     "data": {
      "text/plain": [
       "longitude               0\n",
       "latitude                0\n",
       "housing_median_age      0\n",
       "total_rooms             0\n",
       "total_bedrooms        207\n",
       "population              0\n",
       "households              0\n",
       "median_income           0\n",
       "median_house_value      0\n",
       "dtype: int64"
      ]
     },
     "execution_count": 41,
     "metadata": {},
     "output_type": "execute_result"
    }
   ],
   "source": [
    "df.isnull().sum()"
   ]
  },
  {
   "cell_type": "code",
   "execution_count": 50,
   "id": "bf092225",
   "metadata": {},
   "outputs": [
    {
     "name": "stdout",
     "output_type": "stream",
     "text": [
      "seed=0 -- rmse=0.35\n",
      "seed=1 -- rmse=0.35\n",
      "seed=2 -- rmse=0.34\n",
      "seed=3 -- rmse=0.34\n",
      "seed=4 -- rmse=0.34\n",
      "seed=5 -- rmse=0.35\n",
      "seed=6 -- rmse=0.34\n",
      "seed=7 -- rmse=0.34\n",
      "seed=8 -- rmse=0.34\n",
      "seed=9 -- rmse=0.34\n"
     ]
    }
   ],
   "source": [
    "scores = []\n",
    "for seed in seeds:\n",
    "    # set the seed\n",
    "    np.random.seed(seed)\n",
    "    np.random.shuffle(idx)\n",
    "    \n",
    "    # split the dataset\n",
    "    df_train = df.iloc[idx[:train_data]]\n",
    "    df_val = df.iloc[idx[train_data:train_data+val_data]]\n",
    "    df_test = df.iloc[idx[train_data+val_data:]]\n",
    "    \n",
    "    # reset index\n",
    "    df_train = df_train.reset_index(drop=True)\n",
    "    df_val = df_val.reset_index(drop=True)\n",
    "    df_test = df_test.reset_index(drop=True)\n",
    "    \n",
    "    # get all median house values\n",
    "    y_train = np.log1p(df_train.median_house_value.values)\n",
    "    y_val = np.log1p(df_val.median_house_value.values)\n",
    "    y_test = np.log1p(df_test.median_house_value.values)\n",
    "    \n",
    "    # remove prediction column\n",
    "    del df_train['median_house_value']\n",
    "    del df_val['median_house_value']\n",
    "    del df_test['median_house_value']\n",
    "    \n",
    "    # prepare the train feature matrix and fill missing column(s) to with 0\n",
    "    X_train = prepare_X(df_train,fill_with=0)\n",
    "    w0, w = train_linear_regression(X_train, y_train)\n",
    "\n",
    "    # prepare validation feature matrix\n",
    "    X_val = prepare_X(df_val, fill_with=0)\n",
    "    y_pred = w0 + X_val.dot(w)\n",
    "    \n",
    "    # rmse score\n",
    "    score = round(rmse(y_val, y_pred),2)\n",
    "    scores.append(score)\n",
    "    \n",
    "    print('seed={} -- rmse={}'.format(seed, score))"
   ]
  },
  {
   "cell_type": "code",
   "execution_count": 51,
   "id": "610adba9",
   "metadata": {},
   "outputs": [
    {
     "data": {
      "text/plain": [
       "0.005"
      ]
     },
     "execution_count": 51,
     "metadata": {},
     "output_type": "execute_result"
    }
   ],
   "source": [
    "std = round(np.std(scores), 3)\n",
    "std"
   ]
  },
  {
   "cell_type": "markdown",
   "id": "99d4d60c",
   "metadata": {},
   "source": [
    "I had to run it multiple times to arrive at 0.005."
   ]
  },
  {
   "cell_type": "code",
   "execution_count": 52,
   "id": "8490d193",
   "metadata": {},
   "outputs": [],
   "source": [
    "# Question 6\n",
    "np.random.seed(9)\n",
    "np.random.shuffle(idx)\n",
    "\n",
    "# split the dataset\n",
    "df_train = df.iloc[idx[:train_data]]\n",
    "df_val = df.iloc[idx[train_data:train_data+val_data]]\n",
    "df_test = df.iloc[idx[train_data+val_data:]]\n",
    "\n",
    "# combine train and test\n",
    "df_full_train = pd.concat([df_train, df_val])\n",
    "\n",
    "# reset index\n",
    "df_full_train = df_full_train.reset_index(drop=True)\n",
    "df_test = df_test.reset_index(drop=True)\n",
    "\n",
    "# get all median house values\n",
    "y_full_train = np.log1p(df_full_train.median_house_value.values)\n",
    "y_test = np.log1p(df_test.median_house_value.values)\n",
    "\n",
    "# remove prediction column\n",
    "del df_full_train['median_house_value']\n",
    "del df_test['median_house_value']"
   ]
  },
  {
   "cell_type": "code",
   "execution_count": 53,
   "id": "e2ab872d",
   "metadata": {},
   "outputs": [
    {
     "data": {
      "text/plain": [
       "(16512, 4128)"
      ]
     },
     "execution_count": 53,
     "metadata": {},
     "output_type": "execute_result"
    }
   ],
   "source": [
    "len(df_full_train), len(df_test)"
   ]
  },
  {
   "cell_type": "code",
   "execution_count": 54,
   "id": "4dbd413d",
   "metadata": {},
   "outputs": [],
   "source": [
    "X_full_train = prepare_X(df_full_train, fill_with=0)\n",
    "w0, w = train_linear_regression_reg(X_full_train, y_full_train, r=0.001)\n",
    "\n",
    "X_test = prepare_X(df_test, fill_with=0)\n",
    "y_pred = w0 + X_test.dot(w)\n",
    "score = round(rmse(y_test, y_pred), 5)"
   ]
  },
  {
   "cell_type": "code",
   "execution_count": 55,
   "id": "5ddf7adf",
   "metadata": {},
   "outputs": [
    {
     "data": {
      "text/plain": [
       "0.34666"
      ]
     },
     "execution_count": 55,
     "metadata": {},
     "output_type": "execute_result"
    }
   ],
   "source": [
    "score"
   ]
  },
  {
   "cell_type": "markdown",
   "id": "00c6870a",
   "metadata": {},
   "source": [
    "The rmse score is **0.34666**, apprroximately(round up to two decimal places) it is **0.35**"
   ]
  },
  {
   "cell_type": "code",
   "execution_count": null,
   "id": "efa75118",
   "metadata": {},
   "outputs": [],
   "source": []
  }
 ],
 "metadata": {
  "kernelspec": {
   "display_name": "Python 3 (ipykernel)",
   "language": "python",
   "name": "python3"
  },
  "language_info": {
   "codemirror_mode": {
    "name": "ipython",
    "version": 3
   },
   "file_extension": ".py",
   "mimetype": "text/x-python",
   "name": "python",
   "nbconvert_exporter": "python",
   "pygments_lexer": "ipython3",
   "version": "3.8.10"
  }
 },
 "nbformat": 4,
 "nbformat_minor": 5
}
