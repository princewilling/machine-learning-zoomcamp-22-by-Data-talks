{
 "cells": [
  {
   "cell_type": "markdown",
   "id": "080a8b67",
   "metadata": {},
   "source": [
    "# Session 3 Homework\n",
    "Machine Learning Classification - Logistic Regression Model"
   ]
  },
  {
   "cell_type": "code",
   "execution_count": 1,
   "id": "d5401a25",
   "metadata": {},
   "outputs": [],
   "source": [
    "# import necessary libraries\n",
    "import numpy as np\n",
    "import pandas as pd\n",
    "import matplotlib.pyplot as plt\n",
    "import seaborn as sns"
   ]
  },
  {
   "cell_type": "code",
   "execution_count": 2,
   "id": "4453b3f7",
   "metadata": {},
   "outputs": [
    {
     "name": "stdout",
     "output_type": "stream",
     "text": [
      "--2022-09-26 01:58:24--  https://raw.githubusercontent.com/alexeygrigorev/datasets/master/housing.csv\n",
      "Resolving raw.githubusercontent.com (raw.githubusercontent.com)... 185.199.108.133, 185.199.109.133, 185.199.111.133, ...\n",
      "Connecting to raw.githubusercontent.com (raw.githubusercontent.com)|185.199.108.133|:443... connected.\n",
      "HTTP request sent, awaiting response... 200 OK\n",
      "Length: 1423529 (1.4M) [text/plain]\n",
      "Saving to: ‘housing.csv’\n",
      "\n",
      "housing.csv         100%[===================>]   1.36M   324KB/s    in 4.5s    \n",
      "\n",
      "2022-09-26 01:58:30 (311 KB/s) - ‘housing.csv’ saved [1423529/1423529]\n",
      "\n"
     ]
    }
   ],
   "source": [
    "!wget https://raw.githubusercontent.com/alexeygrigorev/datasets/master/housing.csv "
   ]
  },
  {
   "cell_type": "code",
   "execution_count": 3,
   "id": "d0af5378",
   "metadata": {},
   "outputs": [],
   "source": [
    "# get and load data\n",
    "df = pd.read_csv('housing.csv')"
   ]
  },
  {
   "cell_type": "code",
   "execution_count": 4,
   "id": "11a4f1fd",
   "metadata": {},
   "outputs": [
    {
     "data": {
      "text/html": [
       "<div>\n",
       "<style scoped>\n",
       "    .dataframe tbody tr th:only-of-type {\n",
       "        vertical-align: middle;\n",
       "    }\n",
       "\n",
       "    .dataframe tbody tr th {\n",
       "        vertical-align: top;\n",
       "    }\n",
       "\n",
       "    .dataframe thead th {\n",
       "        text-align: right;\n",
       "    }\n",
       "</style>\n",
       "<table border=\"1\" class=\"dataframe\">\n",
       "  <thead>\n",
       "    <tr style=\"text-align: right;\">\n",
       "      <th></th>\n",
       "      <th>longitude</th>\n",
       "      <th>latitude</th>\n",
       "      <th>housing_median_age</th>\n",
       "      <th>total_rooms</th>\n",
       "      <th>total_bedrooms</th>\n",
       "      <th>population</th>\n",
       "      <th>households</th>\n",
       "      <th>median_income</th>\n",
       "      <th>median_house_value</th>\n",
       "      <th>ocean_proximity</th>\n",
       "    </tr>\n",
       "  </thead>\n",
       "  <tbody>\n",
       "    <tr>\n",
       "      <th>7702</th>\n",
       "      <td>-118.13</td>\n",
       "      <td>33.96</td>\n",
       "      <td>36.0</td>\n",
       "      <td>1933.0</td>\n",
       "      <td>341.0</td>\n",
       "      <td>958.0</td>\n",
       "      <td>335.0</td>\n",
       "      <td>4.4732</td>\n",
       "      <td>266000.0</td>\n",
       "      <td>&lt;1H OCEAN</td>\n",
       "    </tr>\n",
       "    <tr>\n",
       "      <th>3256</th>\n",
       "      <td>-120.13</td>\n",
       "      <td>35.87</td>\n",
       "      <td>26.0</td>\n",
       "      <td>48.0</td>\n",
       "      <td>8.0</td>\n",
       "      <td>13.0</td>\n",
       "      <td>8.0</td>\n",
       "      <td>2.3750</td>\n",
       "      <td>71300.0</td>\n",
       "      <td>INLAND</td>\n",
       "    </tr>\n",
       "    <tr>\n",
       "      <th>809</th>\n",
       "      <td>-122.04</td>\n",
       "      <td>37.62</td>\n",
       "      <td>35.0</td>\n",
       "      <td>1032.0</td>\n",
       "      <td>173.0</td>\n",
       "      <td>453.0</td>\n",
       "      <td>176.0</td>\n",
       "      <td>6.3960</td>\n",
       "      <td>208500.0</td>\n",
       "      <td>NEAR BAY</td>\n",
       "    </tr>\n",
       "    <tr>\n",
       "      <th>13846</th>\n",
       "      <td>-117.35</td>\n",
       "      <td>34.50</td>\n",
       "      <td>10.0</td>\n",
       "      <td>2163.0</td>\n",
       "      <td>392.0</td>\n",
       "      <td>1174.0</td>\n",
       "      <td>362.0</td>\n",
       "      <td>3.3750</td>\n",
       "      <td>98000.0</td>\n",
       "      <td>INLAND</td>\n",
       "    </tr>\n",
       "    <tr>\n",
       "      <th>6924</th>\n",
       "      <td>-118.07</td>\n",
       "      <td>34.01</td>\n",
       "      <td>38.0</td>\n",
       "      <td>2245.0</td>\n",
       "      <td>444.0</td>\n",
       "      <td>1540.0</td>\n",
       "      <td>419.0</td>\n",
       "      <td>3.7986</td>\n",
       "      <td>171000.0</td>\n",
       "      <td>&lt;1H OCEAN</td>\n",
       "    </tr>\n",
       "    <tr>\n",
       "      <th>8596</th>\n",
       "      <td>-118.37</td>\n",
       "      <td>33.89</td>\n",
       "      <td>21.0</td>\n",
       "      <td>2696.0</td>\n",
       "      <td>548.0</td>\n",
       "      <td>1142.0</td>\n",
       "      <td>473.0</td>\n",
       "      <td>5.6091</td>\n",
       "      <td>356800.0</td>\n",
       "      <td>&lt;1H OCEAN</td>\n",
       "    </tr>\n",
       "    <tr>\n",
       "      <th>3139</th>\n",
       "      <td>-118.17</td>\n",
       "      <td>34.87</td>\n",
       "      <td>9.0</td>\n",
       "      <td>1507.0</td>\n",
       "      <td>293.0</td>\n",
       "      <td>761.0</td>\n",
       "      <td>278.0</td>\n",
       "      <td>3.0184</td>\n",
       "      <td>87900.0</td>\n",
       "      <td>INLAND</td>\n",
       "    </tr>\n",
       "    <tr>\n",
       "      <th>6272</th>\n",
       "      <td>-117.94</td>\n",
       "      <td>34.03</td>\n",
       "      <td>35.0</td>\n",
       "      <td>1499.0</td>\n",
       "      <td>289.0</td>\n",
       "      <td>1112.0</td>\n",
       "      <td>268.0</td>\n",
       "      <td>3.8300</td>\n",
       "      <td>149000.0</td>\n",
       "      <td>&lt;1H OCEAN</td>\n",
       "    </tr>\n",
       "  </tbody>\n",
       "</table>\n",
       "</div>"
      ],
      "text/plain": [
       "       longitude  latitude  housing_median_age  total_rooms  total_bedrooms  \\\n",
       "7702     -118.13     33.96                36.0       1933.0           341.0   \n",
       "3256     -120.13     35.87                26.0         48.0             8.0   \n",
       "809      -122.04     37.62                35.0       1032.0           173.0   \n",
       "13846    -117.35     34.50                10.0       2163.0           392.0   \n",
       "6924     -118.07     34.01                38.0       2245.0           444.0   \n",
       "8596     -118.37     33.89                21.0       2696.0           548.0   \n",
       "3139     -118.17     34.87                 9.0       1507.0           293.0   \n",
       "6272     -117.94     34.03                35.0       1499.0           289.0   \n",
       "\n",
       "       population  households  median_income  median_house_value  \\\n",
       "7702        958.0       335.0         4.4732            266000.0   \n",
       "3256         13.0         8.0         2.3750             71300.0   \n",
       "809         453.0       176.0         6.3960            208500.0   \n",
       "13846      1174.0       362.0         3.3750             98000.0   \n",
       "6924       1540.0       419.0         3.7986            171000.0   \n",
       "8596       1142.0       473.0         5.6091            356800.0   \n",
       "3139        761.0       278.0         3.0184             87900.0   \n",
       "6272       1112.0       268.0         3.8300            149000.0   \n",
       "\n",
       "      ocean_proximity  \n",
       "7702        <1H OCEAN  \n",
       "3256           INLAND  \n",
       "809          NEAR BAY  \n",
       "13846          INLAND  \n",
       "6924        <1H OCEAN  \n",
       "8596        <1H OCEAN  \n",
       "3139           INLAND  \n",
       "6272        <1H OCEAN  "
      ]
     },
     "execution_count": 4,
     "metadata": {},
     "output_type": "execute_result"
    }
   ],
   "source": [
    "df.sample(8)"
   ]
  },
  {
   "cell_type": "markdown",
   "id": "1bea17a7",
   "metadata": {},
   "source": [
    "### Data preparation"
   ]
  },
  {
   "cell_type": "code",
   "execution_count": 5,
   "id": "e14e2b6d",
   "metadata": {},
   "outputs": [
    {
     "data": {
      "text/html": [
       "<div>\n",
       "<style scoped>\n",
       "    .dataframe tbody tr th:only-of-type {\n",
       "        vertical-align: middle;\n",
       "    }\n",
       "\n",
       "    .dataframe tbody tr th {\n",
       "        vertical-align: top;\n",
       "    }\n",
       "\n",
       "    .dataframe thead th {\n",
       "        text-align: right;\n",
       "    }\n",
       "</style>\n",
       "<table border=\"1\" class=\"dataframe\">\n",
       "  <thead>\n",
       "    <tr style=\"text-align: right;\">\n",
       "      <th></th>\n",
       "      <th>longitude</th>\n",
       "      <th>latitude</th>\n",
       "      <th>housing_median_age</th>\n",
       "      <th>total_rooms</th>\n",
       "      <th>total_bedrooms</th>\n",
       "      <th>population</th>\n",
       "      <th>households</th>\n",
       "      <th>median_income</th>\n",
       "      <th>median_house_value</th>\n",
       "      <th>ocean_proximity</th>\n",
       "    </tr>\n",
       "  </thead>\n",
       "  <tbody>\n",
       "    <tr>\n",
       "      <th>14306</th>\n",
       "      <td>-117.14</td>\n",
       "      <td>32.71</td>\n",
       "      <td>52.0</td>\n",
       "      <td>800.0</td>\n",
       "      <td>313.0</td>\n",
       "      <td>1337.0</td>\n",
       "      <td>282.0</td>\n",
       "      <td>1.5594</td>\n",
       "      <td>87500.0</td>\n",
       "      <td>NEAR OCEAN</td>\n",
       "    </tr>\n",
       "    <tr>\n",
       "      <th>7880</th>\n",
       "      <td>-118.11</td>\n",
       "      <td>33.87</td>\n",
       "      <td>15.0</td>\n",
       "      <td>3254.0</td>\n",
       "      <td>598.0</td>\n",
       "      <td>1772.0</td>\n",
       "      <td>618.0</td>\n",
       "      <td>5.0417</td>\n",
       "      <td>240800.0</td>\n",
       "      <td>&lt;1H OCEAN</td>\n",
       "    </tr>\n",
       "    <tr>\n",
       "      <th>1958</th>\n",
       "      <td>-120.81</td>\n",
       "      <td>38.73</td>\n",
       "      <td>42.0</td>\n",
       "      <td>1276.0</td>\n",
       "      <td>260.0</td>\n",
       "      <td>799.0</td>\n",
       "      <td>259.0</td>\n",
       "      <td>2.7273</td>\n",
       "      <td>128600.0</td>\n",
       "      <td>INLAND</td>\n",
       "    </tr>\n",
       "    <tr>\n",
       "      <th>282</th>\n",
       "      <td>-122.13</td>\n",
       "      <td>37.77</td>\n",
       "      <td>24.0</td>\n",
       "      <td>2459.0</td>\n",
       "      <td>317.0</td>\n",
       "      <td>916.0</td>\n",
       "      <td>324.0</td>\n",
       "      <td>7.0712</td>\n",
       "      <td>293000.0</td>\n",
       "      <td>NEAR BAY</td>\n",
       "    </tr>\n",
       "    <tr>\n",
       "      <th>4723</th>\n",
       "      <td>-118.37</td>\n",
       "      <td>34.05</td>\n",
       "      <td>41.0</td>\n",
       "      <td>2369.0</td>\n",
       "      <td>544.0</td>\n",
       "      <td>1252.0</td>\n",
       "      <td>522.0</td>\n",
       "      <td>2.9883</td>\n",
       "      <td>296100.0</td>\n",
       "      <td>&lt;1H OCEAN</td>\n",
       "    </tr>\n",
       "  </tbody>\n",
       "</table>\n",
       "</div>"
      ],
      "text/plain": [
       "       longitude  latitude  housing_median_age  total_rooms  total_bedrooms  \\\n",
       "14306    -117.14     32.71                52.0        800.0           313.0   \n",
       "7880     -118.11     33.87                15.0       3254.0           598.0   \n",
       "1958     -120.81     38.73                42.0       1276.0           260.0   \n",
       "282      -122.13     37.77                24.0       2459.0           317.0   \n",
       "4723     -118.37     34.05                41.0       2369.0           544.0   \n",
       "\n",
       "       population  households  median_income  median_house_value  \\\n",
       "14306      1337.0       282.0         1.5594             87500.0   \n",
       "7880       1772.0       618.0         5.0417            240800.0   \n",
       "1958        799.0       259.0         2.7273            128600.0   \n",
       "282         916.0       324.0         7.0712            293000.0   \n",
       "4723       1252.0       522.0         2.9883            296100.0   \n",
       "\n",
       "      ocean_proximity  \n",
       "14306      NEAR OCEAN  \n",
       "7880        <1H OCEAN  \n",
       "1958           INLAND  \n",
       "282          NEAR BAY  \n",
       "4723        <1H OCEAN  "
      ]
     },
     "execution_count": 5,
     "metadata": {},
     "output_type": "execute_result"
    }
   ],
   "source": [
    "df.sample(5)"
   ]
  },
  {
   "cell_type": "code",
   "execution_count": 6,
   "id": "d7eb73ca",
   "metadata": {},
   "outputs": [],
   "source": [
    "features = ['latitude', 'longitude', 'housing_median_age', 'total_rooms', 'total_bedrooms',\n",
    "            'population', 'households', 'median_income', 'median_house_value', 'ocean_proximity']"
   ]
  },
  {
   "cell_type": "code",
   "execution_count": 7,
   "id": "6876af91",
   "metadata": {},
   "outputs": [],
   "source": [
    "df = df[features]"
   ]
  },
  {
   "cell_type": "code",
   "execution_count": 8,
   "id": "549dee9d",
   "metadata": {},
   "outputs": [
    {
     "data": {
      "text/html": [
       "<div>\n",
       "<style scoped>\n",
       "    .dataframe tbody tr th:only-of-type {\n",
       "        vertical-align: middle;\n",
       "    }\n",
       "\n",
       "    .dataframe tbody tr th {\n",
       "        vertical-align: top;\n",
       "    }\n",
       "\n",
       "    .dataframe thead th {\n",
       "        text-align: right;\n",
       "    }\n",
       "</style>\n",
       "<table border=\"1\" class=\"dataframe\">\n",
       "  <thead>\n",
       "    <tr style=\"text-align: right;\">\n",
       "      <th></th>\n",
       "      <th>latitude</th>\n",
       "      <th>longitude</th>\n",
       "      <th>housing_median_age</th>\n",
       "      <th>total_rooms</th>\n",
       "      <th>total_bedrooms</th>\n",
       "      <th>population</th>\n",
       "      <th>households</th>\n",
       "      <th>median_income</th>\n",
       "      <th>median_house_value</th>\n",
       "      <th>ocean_proximity</th>\n",
       "    </tr>\n",
       "  </thead>\n",
       "  <tbody>\n",
       "    <tr>\n",
       "      <th>11042</th>\n",
       "      <td>33.81</td>\n",
       "      <td>-117.82</td>\n",
       "      <td>19.0</td>\n",
       "      <td>2556.0</td>\n",
       "      <td>304.0</td>\n",
       "      <td>822.0</td>\n",
       "      <td>260.0</td>\n",
       "      <td>9.9055</td>\n",
       "      <td>456900.0</td>\n",
       "      <td>&lt;1H OCEAN</td>\n",
       "    </tr>\n",
       "    <tr>\n",
       "      <th>17717</th>\n",
       "      <td>37.35</td>\n",
       "      <td>-121.75</td>\n",
       "      <td>18.0</td>\n",
       "      <td>1947.0</td>\n",
       "      <td>250.0</td>\n",
       "      <td>605.0</td>\n",
       "      <td>184.0</td>\n",
       "      <td>8.1871</td>\n",
       "      <td>500001.0</td>\n",
       "      <td>&lt;1H OCEAN</td>\n",
       "    </tr>\n",
       "    <tr>\n",
       "      <th>4</th>\n",
       "      <td>37.85</td>\n",
       "      <td>-122.25</td>\n",
       "      <td>52.0</td>\n",
       "      <td>1627.0</td>\n",
       "      <td>280.0</td>\n",
       "      <td>565.0</td>\n",
       "      <td>259.0</td>\n",
       "      <td>3.8462</td>\n",
       "      <td>342200.0</td>\n",
       "      <td>NEAR BAY</td>\n",
       "    </tr>\n",
       "    <tr>\n",
       "      <th>3387</th>\n",
       "      <td>34.24</td>\n",
       "      <td>-118.33</td>\n",
       "      <td>31.0</td>\n",
       "      <td>6434.0</td>\n",
       "      <td>1188.0</td>\n",
       "      <td>3540.0</td>\n",
       "      <td>1131.0</td>\n",
       "      <td>4.2639</td>\n",
       "      <td>293300.0</td>\n",
       "      <td>&lt;1H OCEAN</td>\n",
       "    </tr>\n",
       "    <tr>\n",
       "      <th>16452</th>\n",
       "      <td>38.13</td>\n",
       "      <td>-121.27</td>\n",
       "      <td>52.0</td>\n",
       "      <td>1081.0</td>\n",
       "      <td>257.0</td>\n",
       "      <td>437.0</td>\n",
       "      <td>225.0</td>\n",
       "      <td>2.1979</td>\n",
       "      <td>114100.0</td>\n",
       "      <td>INLAND</td>\n",
       "    </tr>\n",
       "    <tr>\n",
       "      <th>5935</th>\n",
       "      <td>34.15</td>\n",
       "      <td>-117.87</td>\n",
       "      <td>24.0</td>\n",
       "      <td>5745.0</td>\n",
       "      <td>735.0</td>\n",
       "      <td>2061.0</td>\n",
       "      <td>679.0</td>\n",
       "      <td>8.2827</td>\n",
       "      <td>451400.0</td>\n",
       "      <td>INLAND</td>\n",
       "    </tr>\n",
       "    <tr>\n",
       "      <th>5449</th>\n",
       "      <td>34.00</td>\n",
       "      <td>-118.42</td>\n",
       "      <td>31.0</td>\n",
       "      <td>1930.0</td>\n",
       "      <td>456.0</td>\n",
       "      <td>1002.0</td>\n",
       "      <td>410.0</td>\n",
       "      <td>3.9798</td>\n",
       "      <td>458600.0</td>\n",
       "      <td>&lt;1H OCEAN</td>\n",
       "    </tr>\n",
       "    <tr>\n",
       "      <th>17695</th>\n",
       "      <td>37.29</td>\n",
       "      <td>-121.83</td>\n",
       "      <td>10.0</td>\n",
       "      <td>1828.0</td>\n",
       "      <td>453.0</td>\n",
       "      <td>1356.0</td>\n",
       "      <td>409.0</td>\n",
       "      <td>4.5943</td>\n",
       "      <td>123500.0</td>\n",
       "      <td>&lt;1H OCEAN</td>\n",
       "    </tr>\n",
       "    <tr>\n",
       "      <th>20229</th>\n",
       "      <td>34.27</td>\n",
       "      <td>-119.30</td>\n",
       "      <td>17.0</td>\n",
       "      <td>1527.0</td>\n",
       "      <td>503.0</td>\n",
       "      <td>688.0</td>\n",
       "      <td>423.0</td>\n",
       "      <td>1.6007</td>\n",
       "      <td>187500.0</td>\n",
       "      <td>NEAR OCEAN</td>\n",
       "    </tr>\n",
       "    <tr>\n",
       "      <th>5309</th>\n",
       "      <td>34.05</td>\n",
       "      <td>-118.44</td>\n",
       "      <td>15.0</td>\n",
       "      <td>5368.0</td>\n",
       "      <td>1312.0</td>\n",
       "      <td>2269.0</td>\n",
       "      <td>1232.0</td>\n",
       "      <td>5.7097</td>\n",
       "      <td>316700.0</td>\n",
       "      <td>&lt;1H OCEAN</td>\n",
       "    </tr>\n",
       "  </tbody>\n",
       "</table>\n",
       "</div>"
      ],
      "text/plain": [
       "       latitude  longitude  housing_median_age  total_rooms  total_bedrooms  \\\n",
       "11042     33.81    -117.82                19.0       2556.0           304.0   \n",
       "17717     37.35    -121.75                18.0       1947.0           250.0   \n",
       "4         37.85    -122.25                52.0       1627.0           280.0   \n",
       "3387      34.24    -118.33                31.0       6434.0          1188.0   \n",
       "16452     38.13    -121.27                52.0       1081.0           257.0   \n",
       "5935      34.15    -117.87                24.0       5745.0           735.0   \n",
       "5449      34.00    -118.42                31.0       1930.0           456.0   \n",
       "17695     37.29    -121.83                10.0       1828.0           453.0   \n",
       "20229     34.27    -119.30                17.0       1527.0           503.0   \n",
       "5309      34.05    -118.44                15.0       5368.0          1312.0   \n",
       "\n",
       "       population  households  median_income  median_house_value  \\\n",
       "11042       822.0       260.0         9.9055            456900.0   \n",
       "17717       605.0       184.0         8.1871            500001.0   \n",
       "4           565.0       259.0         3.8462            342200.0   \n",
       "3387       3540.0      1131.0         4.2639            293300.0   \n",
       "16452       437.0       225.0         2.1979            114100.0   \n",
       "5935       2061.0       679.0         8.2827            451400.0   \n",
       "5449       1002.0       410.0         3.9798            458600.0   \n",
       "17695      1356.0       409.0         4.5943            123500.0   \n",
       "20229       688.0       423.0         1.6007            187500.0   \n",
       "5309       2269.0      1232.0         5.7097            316700.0   \n",
       "\n",
       "      ocean_proximity  \n",
       "11042       <1H OCEAN  \n",
       "17717       <1H OCEAN  \n",
       "4            NEAR BAY  \n",
       "3387        <1H OCEAN  \n",
       "16452          INLAND  \n",
       "5935           INLAND  \n",
       "5449        <1H OCEAN  \n",
       "17695       <1H OCEAN  \n",
       "20229      NEAR OCEAN  \n",
       "5309        <1H OCEAN  "
      ]
     },
     "execution_count": 8,
     "metadata": {},
     "output_type": "execute_result"
    }
   ],
   "source": [
    "df.sample(10)"
   ]
  },
  {
   "cell_type": "code",
   "execution_count": 9,
   "id": "ff209417",
   "metadata": {},
   "outputs": [
    {
     "data": {
      "text/plain": [
       "latitude                0\n",
       "longitude               0\n",
       "housing_median_age      0\n",
       "total_rooms             0\n",
       "total_bedrooms        207\n",
       "population              0\n",
       "households              0\n",
       "median_income           0\n",
       "median_house_value      0\n",
       "ocean_proximity         0\n",
       "dtype: int64"
      ]
     },
     "execution_count": 9,
     "metadata": {},
     "output_type": "execute_result"
    }
   ],
   "source": [
    "df.isnull().sum()"
   ]
  },
  {
   "cell_type": "code",
   "execution_count": 10,
   "id": "c1efa43d",
   "metadata": {},
   "outputs": [],
   "source": [
    "df = df.fillna(0)"
   ]
  },
  {
   "cell_type": "code",
   "execution_count": 11,
   "id": "18f0c4c0",
   "metadata": {},
   "outputs": [
    {
     "data": {
      "text/plain": [
       "latitude              0\n",
       "longitude             0\n",
       "housing_median_age    0\n",
       "total_rooms           0\n",
       "total_bedrooms        0\n",
       "population            0\n",
       "households            0\n",
       "median_income         0\n",
       "median_house_value    0\n",
       "ocean_proximity       0\n",
       "dtype: int64"
      ]
     },
     "execution_count": 11,
     "metadata": {},
     "output_type": "execute_result"
    }
   ],
   "source": [
    "df.isnull().sum()"
   ]
  },
  {
   "cell_type": "code",
   "execution_count": 12,
   "id": "0507397a",
   "metadata": {},
   "outputs": [],
   "source": [
    "df['population_per_household'] = df['total_rooms'] / df['households']\n",
    "df['bedrooms_per_room'] = df['total_bedrooms'] / df['total_rooms']\n",
    "df['rooms_per_household'] = df['total_rooms'] / df['households']"
   ]
  },
  {
   "cell_type": "code",
   "execution_count": 13,
   "id": "fcd467cc",
   "metadata": {},
   "outputs": [
    {
     "data": {
      "text/html": [
       "<div>\n",
       "<style scoped>\n",
       "    .dataframe tbody tr th:only-of-type {\n",
       "        vertical-align: middle;\n",
       "    }\n",
       "\n",
       "    .dataframe tbody tr th {\n",
       "        vertical-align: top;\n",
       "    }\n",
       "\n",
       "    .dataframe thead th {\n",
       "        text-align: right;\n",
       "    }\n",
       "</style>\n",
       "<table border=\"1\" class=\"dataframe\">\n",
       "  <thead>\n",
       "    <tr style=\"text-align: right;\">\n",
       "      <th></th>\n",
       "      <th>latitude</th>\n",
       "      <th>longitude</th>\n",
       "      <th>housing_median_age</th>\n",
       "      <th>total_rooms</th>\n",
       "      <th>total_bedrooms</th>\n",
       "      <th>population</th>\n",
       "      <th>households</th>\n",
       "      <th>median_income</th>\n",
       "      <th>median_house_value</th>\n",
       "      <th>ocean_proximity</th>\n",
       "      <th>population_per_household</th>\n",
       "      <th>bedrooms_per_room</th>\n",
       "      <th>rooms_per_household</th>\n",
       "    </tr>\n",
       "  </thead>\n",
       "  <tbody>\n",
       "    <tr>\n",
       "      <th>0</th>\n",
       "      <td>37.88</td>\n",
       "      <td>-122.23</td>\n",
       "      <td>41.0</td>\n",
       "      <td>880.0</td>\n",
       "      <td>129.0</td>\n",
       "      <td>322.0</td>\n",
       "      <td>126.0</td>\n",
       "      <td>8.3252</td>\n",
       "      <td>452600.0</td>\n",
       "      <td>NEAR BAY</td>\n",
       "      <td>6.984127</td>\n",
       "      <td>0.146591</td>\n",
       "      <td>6.984127</td>\n",
       "    </tr>\n",
       "    <tr>\n",
       "      <th>1</th>\n",
       "      <td>37.86</td>\n",
       "      <td>-122.22</td>\n",
       "      <td>21.0</td>\n",
       "      <td>7099.0</td>\n",
       "      <td>1106.0</td>\n",
       "      <td>2401.0</td>\n",
       "      <td>1138.0</td>\n",
       "      <td>8.3014</td>\n",
       "      <td>358500.0</td>\n",
       "      <td>NEAR BAY</td>\n",
       "      <td>6.238137</td>\n",
       "      <td>0.155797</td>\n",
       "      <td>6.238137</td>\n",
       "    </tr>\n",
       "    <tr>\n",
       "      <th>2</th>\n",
       "      <td>37.85</td>\n",
       "      <td>-122.24</td>\n",
       "      <td>52.0</td>\n",
       "      <td>1467.0</td>\n",
       "      <td>190.0</td>\n",
       "      <td>496.0</td>\n",
       "      <td>177.0</td>\n",
       "      <td>7.2574</td>\n",
       "      <td>352100.0</td>\n",
       "      <td>NEAR BAY</td>\n",
       "      <td>8.288136</td>\n",
       "      <td>0.129516</td>\n",
       "      <td>8.288136</td>\n",
       "    </tr>\n",
       "    <tr>\n",
       "      <th>3</th>\n",
       "      <td>37.85</td>\n",
       "      <td>-122.25</td>\n",
       "      <td>52.0</td>\n",
       "      <td>1274.0</td>\n",
       "      <td>235.0</td>\n",
       "      <td>558.0</td>\n",
       "      <td>219.0</td>\n",
       "      <td>5.6431</td>\n",
       "      <td>341300.0</td>\n",
       "      <td>NEAR BAY</td>\n",
       "      <td>5.817352</td>\n",
       "      <td>0.184458</td>\n",
       "      <td>5.817352</td>\n",
       "    </tr>\n",
       "    <tr>\n",
       "      <th>4</th>\n",
       "      <td>37.85</td>\n",
       "      <td>-122.25</td>\n",
       "      <td>52.0</td>\n",
       "      <td>1627.0</td>\n",
       "      <td>280.0</td>\n",
       "      <td>565.0</td>\n",
       "      <td>259.0</td>\n",
       "      <td>3.8462</td>\n",
       "      <td>342200.0</td>\n",
       "      <td>NEAR BAY</td>\n",
       "      <td>6.281853</td>\n",
       "      <td>0.172096</td>\n",
       "      <td>6.281853</td>\n",
       "    </tr>\n",
       "  </tbody>\n",
       "</table>\n",
       "</div>"
      ],
      "text/plain": [
       "   latitude  longitude  housing_median_age  total_rooms  total_bedrooms  \\\n",
       "0     37.88    -122.23                41.0        880.0           129.0   \n",
       "1     37.86    -122.22                21.0       7099.0          1106.0   \n",
       "2     37.85    -122.24                52.0       1467.0           190.0   \n",
       "3     37.85    -122.25                52.0       1274.0           235.0   \n",
       "4     37.85    -122.25                52.0       1627.0           280.0   \n",
       "\n",
       "   population  households  median_income  median_house_value ocean_proximity  \\\n",
       "0       322.0       126.0         8.3252            452600.0        NEAR BAY   \n",
       "1      2401.0      1138.0         8.3014            358500.0        NEAR BAY   \n",
       "2       496.0       177.0         7.2574            352100.0        NEAR BAY   \n",
       "3       558.0       219.0         5.6431            341300.0        NEAR BAY   \n",
       "4       565.0       259.0         3.8462            342200.0        NEAR BAY   \n",
       "\n",
       "   population_per_household  bedrooms_per_room  rooms_per_household  \n",
       "0                  6.984127           0.146591             6.984127  \n",
       "1                  6.238137           0.155797             6.238137  \n",
       "2                  8.288136           0.129516             8.288136  \n",
       "3                  5.817352           0.184458             5.817352  \n",
       "4                  6.281853           0.172096             6.281853  "
      ]
     },
     "execution_count": 13,
     "metadata": {},
     "output_type": "execute_result"
    }
   ],
   "source": [
    "df.head()"
   ]
  },
  {
   "cell_type": "markdown",
   "id": "bb7564b0",
   "metadata": {},
   "source": [
    "### Question 1\n",
    "What is the most frequent observation (mode) for the column `ocean_proximity`?"
   ]
  },
  {
   "cell_type": "code",
   "execution_count": 14,
   "id": "0dbdbbeb",
   "metadata": {},
   "outputs": [
    {
     "data": {
      "text/plain": [
       "<1H OCEAN     9136\n",
       "INLAND        6551\n",
       "NEAR OCEAN    2658\n",
       "NEAR BAY      2290\n",
       "ISLAND           5\n",
       "Name: ocean_proximity, dtype: int64"
      ]
     },
     "execution_count": 14,
     "metadata": {},
     "output_type": "execute_result"
    }
   ],
   "source": [
    "df['ocean_proximity'].value_counts()"
   ]
  },
  {
   "cell_type": "code",
   "execution_count": 15,
   "id": "db129ab7",
   "metadata": {},
   "outputs": [
    {
     "data": {
      "text/plain": [
       "0    <1H OCEAN\n",
       "dtype: object"
      ]
     },
     "execution_count": 15,
     "metadata": {},
     "output_type": "execute_result"
    }
   ],
   "source": [
    "df['ocean_proximity'].mode()"
   ]
  },
  {
   "cell_type": "markdown",
   "id": "523e3b18",
   "metadata": {},
   "source": [
    "**`<1H OCEAN` is the most frequent observation (mode) for the column `ocean_proximity`**"
   ]
  },
  {
   "cell_type": "markdown",
   "id": "b6569136",
   "metadata": {},
   "source": [
    "### Question 2 "
   ]
  },
  {
   "cell_type": "code",
   "execution_count": 16,
   "id": "ef03d77b",
   "metadata": {},
   "outputs": [
    {
     "data": {
      "text/plain": [
       "latitude                    float64\n",
       "longitude                   float64\n",
       "housing_median_age          float64\n",
       "total_rooms                 float64\n",
       "total_bedrooms              float64\n",
       "population                  float64\n",
       "households                  float64\n",
       "median_income               float64\n",
       "median_house_value          float64\n",
       "ocean_proximity              object\n",
       "population_per_household    float64\n",
       "bedrooms_per_room           float64\n",
       "rooms_per_household         float64\n",
       "dtype: object"
      ]
     },
     "execution_count": 16,
     "metadata": {},
     "output_type": "execute_result"
    }
   ],
   "source": [
    "df.dtypes"
   ]
  },
  {
   "cell_type": "code",
   "execution_count": 17,
   "id": "f67266fa",
   "metadata": {},
   "outputs": [
    {
     "data": {
      "text/plain": [
       "['latitude',\n",
       " 'longitude',\n",
       " 'housing_median_age',\n",
       " 'total_rooms',\n",
       " 'total_bedrooms',\n",
       " 'population',\n",
       " 'households',\n",
       " 'median_income',\n",
       " 'median_house_value',\n",
       " 'population_per_household',\n",
       " 'bedrooms_per_room',\n",
       " 'rooms_per_household']"
      ]
     },
     "execution_count": 17,
     "metadata": {},
     "output_type": "execute_result"
    }
   ],
   "source": [
    "numerical = list(df.dtypes[df.dtypes == 'float64'].index)\n",
    "numerical"
   ]
  },
  {
   "cell_type": "code",
   "execution_count": 18,
   "id": "a3c96d23",
   "metadata": {},
   "outputs": [
    {
     "data": {
      "text/plain": [
       "latitude                  latitude                    1.000000\n",
       "longitude                 longitude                   1.000000\n",
       "rooms_per_household       population_per_household    1.000000\n",
       "bedrooms_per_room         bedrooms_per_room           1.000000\n",
       "population_per_household  rooms_per_household         1.000000\n",
       "                                                        ...   \n",
       "bedrooms_per_room         rooms_per_household        -0.387465\n",
       "                          median_income              -0.573836\n",
       "median_income             bedrooms_per_room          -0.573836\n",
       "longitude                 latitude                   -0.924664\n",
       "latitude                  longitude                  -0.924664\n",
       "Length: 144, dtype: float64"
      ]
     },
     "execution_count": 18,
     "metadata": {},
     "output_type": "execute_result"
    }
   ],
   "source": [
    "df[numerical].corr().unstack().sort_values(ascending=False)"
   ]
  },
  {
   "cell_type": "code",
   "execution_count": 21,
   "id": "fc17885d",
   "metadata": {},
   "outputs": [
    {
     "data": {
      "image/png": "[encoded data removed]",
      "text/plain": [
       "<Figure size 1080x720 with 2 Axes>"
      ]
     },
     "metadata": {
      "needs_background": "light"
     },
     "output_type": "display_data"
    }
   ],
   "source": [
    "plt.figure(figsize=(15,10))  \n",
    "sns.heatmap(df[numerical].corr(),annot=True,linewidths=.5)\n",
    "plt.title('Heatmap showing correlations between numerical data')\n",
    "plt.show()"
   ]
  },
  {
   "cell_type": "markdown",
   "id": "3bc7adf5",
   "metadata": {},
   "source": [
    "**Plot shows that total_bedrooms and households that have the highest correlation**"
   ]
  },
  {
   "cell_type": "code",
   "execution_count": 22,
   "id": "90940b7f",
   "metadata": {},
   "outputs": [
    {
     "data": {
      "text/plain": [
       "206855.81690891474"
      ]
     },
     "execution_count": 22,
     "metadata": {},
     "output_type": "execute_result"
    }
   ],
   "source": [
    "mean_for_house_val = df['median_house_value'].mean()\n",
    "mean_for_house_val"
   ]
  },
  {
   "cell_type": "code",
   "execution_count": 23,
   "id": "ee1c43ac",
   "metadata": {},
   "outputs": [
    {
     "data": {
      "text/html": [
       "<div>\n",
       "<style scoped>\n",
       "    .dataframe tbody tr th:only-of-type {\n",
       "        vertical-align: middle;\n",
       "    }\n",
       "\n",
       "    .dataframe tbody tr th {\n",
       "        vertical-align: top;\n",
       "    }\n",
       "\n",
       "    .dataframe thead th {\n",
       "        text-align: right;\n",
       "    }\n",
       "</style>\n",
       "<table border=\"1\" class=\"dataframe\">\n",
       "  <thead>\n",
       "    <tr style=\"text-align: right;\">\n",
       "      <th></th>\n",
       "      <th>latitude</th>\n",
       "      <th>longitude</th>\n",
       "      <th>housing_median_age</th>\n",
       "      <th>total_rooms</th>\n",
       "      <th>total_bedrooms</th>\n",
       "      <th>population</th>\n",
       "      <th>households</th>\n",
       "      <th>median_income</th>\n",
       "      <th>median_house_value</th>\n",
       "      <th>ocean_proximity</th>\n",
       "      <th>population_per_household</th>\n",
       "      <th>bedrooms_per_room</th>\n",
       "      <th>rooms_per_household</th>\n",
       "      <th>above_average</th>\n",
       "    </tr>\n",
       "  </thead>\n",
       "  <tbody>\n",
       "    <tr>\n",
       "      <th>3750</th>\n",
       "      <td>34.18</td>\n",
       "      <td>-118.38</td>\n",
       "      <td>27.0</td>\n",
       "      <td>4834.0</td>\n",
       "      <td>1527.0</td>\n",
       "      <td>3847.0</td>\n",
       "      <td>1432.0</td>\n",
       "      <td>2.1449</td>\n",
       "      <td>165300.0</td>\n",
       "      <td>&lt;1H OCEAN</td>\n",
       "      <td>3.375698</td>\n",
       "      <td>0.315887</td>\n",
       "      <td>3.375698</td>\n",
       "      <td>0</td>\n",
       "    </tr>\n",
       "    <tr>\n",
       "      <th>5043</th>\n",
       "      <td>33.98</td>\n",
       "      <td>-118.33</td>\n",
       "      <td>30.0</td>\n",
       "      <td>3112.0</td>\n",
       "      <td>931.0</td>\n",
       "      <td>2739.0</td>\n",
       "      <td>841.0</td>\n",
       "      <td>1.6531</td>\n",
       "      <td>118500.0</td>\n",
       "      <td>&lt;1H OCEAN</td>\n",
       "      <td>3.700357</td>\n",
       "      <td>0.299165</td>\n",
       "      <td>3.700357</td>\n",
       "      <td>0</td>\n",
       "    </tr>\n",
       "    <tr>\n",
       "      <th>9601</th>\n",
       "      <td>37.30</td>\n",
       "      <td>-120.48</td>\n",
       "      <td>49.0</td>\n",
       "      <td>2919.0</td>\n",
       "      <td>719.0</td>\n",
       "      <td>1956.0</td>\n",
       "      <td>679.0</td>\n",
       "      <td>1.5427</td>\n",
       "      <td>88500.0</td>\n",
       "      <td>INLAND</td>\n",
       "      <td>4.298969</td>\n",
       "      <td>0.246317</td>\n",
       "      <td>4.298969</td>\n",
       "      <td>0</td>\n",
       "    </tr>\n",
       "    <tr>\n",
       "      <th>4220</th>\n",
       "      <td>34.12</td>\n",
       "      <td>-118.28</td>\n",
       "      <td>50.0</td>\n",
       "      <td>2384.0</td>\n",
       "      <td>312.0</td>\n",
       "      <td>836.0</td>\n",
       "      <td>337.0</td>\n",
       "      <td>12.8763</td>\n",
       "      <td>500001.0</td>\n",
       "      <td>&lt;1H OCEAN</td>\n",
       "      <td>7.074184</td>\n",
       "      <td>0.130872</td>\n",
       "      <td>7.074184</td>\n",
       "      <td>1</td>\n",
       "    </tr>\n",
       "    <tr>\n",
       "      <th>9353</th>\n",
       "      <td>37.95</td>\n",
       "      <td>-122.56</td>\n",
       "      <td>34.0</td>\n",
       "      <td>2677.0</td>\n",
       "      <td>411.0</td>\n",
       "      <td>933.0</td>\n",
       "      <td>410.0</td>\n",
       "      <td>6.1444</td>\n",
       "      <td>500001.0</td>\n",
       "      <td>NEAR OCEAN</td>\n",
       "      <td>6.529268</td>\n",
       "      <td>0.153530</td>\n",
       "      <td>6.529268</td>\n",
       "      <td>1</td>\n",
       "    </tr>\n",
       "    <tr>\n",
       "      <th>4989</th>\n",
       "      <td>34.00</td>\n",
       "      <td>-118.31</td>\n",
       "      <td>47.0</td>\n",
       "      <td>1551.0</td>\n",
       "      <td>362.0</td>\n",
       "      <td>1329.0</td>\n",
       "      <td>322.0</td>\n",
       "      <td>1.9792</td>\n",
       "      <td>116400.0</td>\n",
       "      <td>&lt;1H OCEAN</td>\n",
       "      <td>4.816770</td>\n",
       "      <td>0.233398</td>\n",
       "      <td>4.816770</td>\n",
       "      <td>0</td>\n",
       "    </tr>\n",
       "    <tr>\n",
       "      <th>2357</th>\n",
       "      <td>36.82</td>\n",
       "      <td>-119.64</td>\n",
       "      <td>14.0</td>\n",
       "      <td>4872.0</td>\n",
       "      <td>656.0</td>\n",
       "      <td>2085.0</td>\n",
       "      <td>617.0</td>\n",
       "      <td>5.6739</td>\n",
       "      <td>173800.0</td>\n",
       "      <td>INLAND</td>\n",
       "      <td>7.896272</td>\n",
       "      <td>0.134647</td>\n",
       "      <td>7.896272</td>\n",
       "      <td>0</td>\n",
       "    </tr>\n",
       "    <tr>\n",
       "      <th>5581</th>\n",
       "      <td>33.83</td>\n",
       "      <td>-118.31</td>\n",
       "      <td>27.0</td>\n",
       "      <td>2880.0</td>\n",
       "      <td>802.0</td>\n",
       "      <td>2083.0</td>\n",
       "      <td>727.0</td>\n",
       "      <td>2.9619</td>\n",
       "      <td>223400.0</td>\n",
       "      <td>&lt;1H OCEAN</td>\n",
       "      <td>3.961486</td>\n",
       "      <td>0.278472</td>\n",
       "      <td>3.961486</td>\n",
       "      <td>1</td>\n",
       "    </tr>\n",
       "  </tbody>\n",
       "</table>\n",
       "</div>"
      ],
      "text/plain": [
       "      latitude  longitude  housing_median_age  total_rooms  total_bedrooms  \\\n",
       "3750     34.18    -118.38                27.0       4834.0          1527.0   \n",
       "5043     33.98    -118.33                30.0       3112.0           931.0   \n",
       "9601     37.30    -120.48                49.0       2919.0           719.0   \n",
       "4220     34.12    -118.28                50.0       2384.0           312.0   \n",
       "9353     37.95    -122.56                34.0       2677.0           411.0   \n",
       "4989     34.00    -118.31                47.0       1551.0           362.0   \n",
       "2357     36.82    -119.64                14.0       4872.0           656.0   \n",
       "5581     33.83    -118.31                27.0       2880.0           802.0   \n",
       "\n",
       "      population  households  median_income  median_house_value  \\\n",
       "3750      3847.0      1432.0         2.1449            165300.0   \n",
       "5043      2739.0       841.0         1.6531            118500.0   \n",
       "9601      1956.0       679.0         1.5427             88500.0   \n",
       "4220       836.0       337.0        12.8763            500001.0   \n",
       "9353       933.0       410.0         6.1444            500001.0   \n",
       "4989      1329.0       322.0         1.9792            116400.0   \n",
       "2357      2085.0       617.0         5.6739            173800.0   \n",
       "5581      2083.0       727.0         2.9619            223400.0   \n",
       "\n",
       "     ocean_proximity  population_per_household  bedrooms_per_room  \\\n",
       "3750       <1H OCEAN                  3.375698           0.315887   \n",
       "5043       <1H OCEAN                  3.700357           0.299165   \n",
       "9601          INLAND                  4.298969           0.246317   \n",
       "4220       <1H OCEAN                  7.074184           0.130872   \n",
       "9353      NEAR OCEAN                  6.529268           0.153530   \n",
       "4989       <1H OCEAN                  4.816770           0.233398   \n",
       "2357          INLAND                  7.896272           0.134647   \n",
       "5581       <1H OCEAN                  3.961486           0.278472   \n",
       "\n",
       "      rooms_per_household  above_average  \n",
       "3750             3.375698              0  \n",
       "5043             3.700357              0  \n",
       "9601             4.298969              0  \n",
       "4220             7.074184              1  \n",
       "9353             6.529268              1  \n",
       "4989             4.816770              0  \n",
       "2357             7.896272              0  \n",
       "5581             3.961486              1  "
      ]
     },
     "execution_count": 23,
     "metadata": {},
     "output_type": "execute_result"
    }
   ],
   "source": [
    "df['above_average'] = (df['median_house_value'] > mean_for_house_val).astype(int)\n",
    "df.sample(8)"
   ]
  },
  {
   "cell_type": "markdown",
   "id": "042bfdb6",
   "metadata": {},
   "source": [
    "Spliting the data"
   ]
  },
  {
   "cell_type": "code",
   "execution_count": 24,
   "id": "08691c33",
   "metadata": {},
   "outputs": [],
   "source": [
    "from sklearn.model_selection import train_test_split\n",
    "from sklearn.metrics import mutual_info_score"
   ]
  },
  {
   "cell_type": "code",
   "execution_count": 25,
   "id": "467cb8ab",
   "metadata": {},
   "outputs": [],
   "source": [
    "# remove median_house_val from data frame\n",
    "del df['median_house_value']"
   ]
  },
  {
   "cell_type": "code",
   "execution_count": 26,
   "id": "7a3e978f",
   "metadata": {},
   "outputs": [],
   "source": [
    "df_full_train, df_test = train_test_split(df, test_size=0.2, random_state=42)\n",
    "df_train, df_val = train_test_split(df_full_train, test_size=0.25, random_state=42)"
   ]
  },
  {
   "cell_type": "code",
   "execution_count": 27,
   "id": "e8cfdff7",
   "metadata": {},
   "outputs": [
    {
     "data": {
      "text/plain": [
       "(0.6, 0.2, 0.2)"
      ]
     },
     "execution_count": 27,
     "metadata": {},
     "output_type": "execute_result"
    }
   ],
   "source": [
    "# sanity check\n",
    "(len(df_train) / len(df)), (len(df_val) / len(df)), (len(df_val) / len(df))"
   ]
  },
  {
   "cell_type": "code",
   "execution_count": 28,
   "id": "7cd43a20",
   "metadata": {},
   "outputs": [],
   "source": [
    "df_train = df_train.reset_index(drop=True)\n",
    "df_val = df_val.reset_index(drop=True)\n",
    "df_test = df_test.reset_index(drop=True)"
   ]
  },
  {
   "cell_type": "code",
   "execution_count": 29,
   "id": "0d15f482",
   "metadata": {},
   "outputs": [
    {
     "data": {
      "text/html": [
       "<div>\n",
       "<style scoped>\n",
       "    .dataframe tbody tr th:only-of-type {\n",
       "        vertical-align: middle;\n",
       "    }\n",
       "\n",
       "    .dataframe tbody tr th {\n",
       "        vertical-align: top;\n",
       "    }\n",
       "\n",
       "    .dataframe thead th {\n",
       "        text-align: right;\n",
       "    }\n",
       "</style>\n",
       "<table border=\"1\" class=\"dataframe\">\n",
       "  <thead>\n",
       "    <tr style=\"text-align: right;\">\n",
       "      <th></th>\n",
       "      <th>latitude</th>\n",
       "      <th>longitude</th>\n",
       "      <th>housing_median_age</th>\n",
       "      <th>total_rooms</th>\n",
       "      <th>total_bedrooms</th>\n",
       "      <th>population</th>\n",
       "      <th>households</th>\n",
       "      <th>median_income</th>\n",
       "      <th>ocean_proximity</th>\n",
       "      <th>population_per_household</th>\n",
       "      <th>bedrooms_per_room</th>\n",
       "      <th>rooms_per_household</th>\n",
       "      <th>above_average</th>\n",
       "    </tr>\n",
       "  </thead>\n",
       "  <tbody>\n",
       "    <tr>\n",
       "      <th>0</th>\n",
       "      <td>34.43</td>\n",
       "      <td>-119.67</td>\n",
       "      <td>39.0</td>\n",
       "      <td>1467.0</td>\n",
       "      <td>381.0</td>\n",
       "      <td>1404.0</td>\n",
       "      <td>374.0</td>\n",
       "      <td>2.3681</td>\n",
       "      <td>&lt;1H OCEAN</td>\n",
       "      <td>3.922460</td>\n",
       "      <td>0.259714</td>\n",
       "      <td>3.922460</td>\n",
       "      <td>1</td>\n",
       "    </tr>\n",
       "    <tr>\n",
       "      <th>1</th>\n",
       "      <td>33.74</td>\n",
       "      <td>-118.32</td>\n",
       "      <td>24.0</td>\n",
       "      <td>6097.0</td>\n",
       "      <td>794.0</td>\n",
       "      <td>2248.0</td>\n",
       "      <td>806.0</td>\n",
       "      <td>10.1357</td>\n",
       "      <td>NEAR OCEAN</td>\n",
       "      <td>7.564516</td>\n",
       "      <td>0.130228</td>\n",
       "      <td>7.564516</td>\n",
       "      <td>1</td>\n",
       "    </tr>\n",
       "    <tr>\n",
       "      <th>2</th>\n",
       "      <td>39.13</td>\n",
       "      <td>-121.62</td>\n",
       "      <td>41.0</td>\n",
       "      <td>1317.0</td>\n",
       "      <td>309.0</td>\n",
       "      <td>856.0</td>\n",
       "      <td>337.0</td>\n",
       "      <td>1.6719</td>\n",
       "      <td>INLAND</td>\n",
       "      <td>3.908012</td>\n",
       "      <td>0.234624</td>\n",
       "      <td>3.908012</td>\n",
       "      <td>0</td>\n",
       "    </tr>\n",
       "    <tr>\n",
       "      <th>3</th>\n",
       "      <td>34.24</td>\n",
       "      <td>-118.63</td>\n",
       "      <td>9.0</td>\n",
       "      <td>4759.0</td>\n",
       "      <td>924.0</td>\n",
       "      <td>1884.0</td>\n",
       "      <td>915.0</td>\n",
       "      <td>4.8333</td>\n",
       "      <td>&lt;1H OCEAN</td>\n",
       "      <td>5.201093</td>\n",
       "      <td>0.194158</td>\n",
       "      <td>5.201093</td>\n",
       "      <td>1</td>\n",
       "    </tr>\n",
       "    <tr>\n",
       "      <th>4</th>\n",
       "      <td>37.52</td>\n",
       "      <td>-122.30</td>\n",
       "      <td>38.0</td>\n",
       "      <td>2769.0</td>\n",
       "      <td>387.0</td>\n",
       "      <td>994.0</td>\n",
       "      <td>395.0</td>\n",
       "      <td>5.5902</td>\n",
       "      <td>NEAR OCEAN</td>\n",
       "      <td>7.010127</td>\n",
       "      <td>0.139762</td>\n",
       "      <td>7.010127</td>\n",
       "      <td>1</td>\n",
       "    </tr>\n",
       "  </tbody>\n",
       "</table>\n",
       "</div>"
      ],
      "text/plain": [
       "   latitude  longitude  housing_median_age  total_rooms  total_bedrooms  \\\n",
       "0     34.43    -119.67                39.0       1467.0           381.0   \n",
       "1     33.74    -118.32                24.0       6097.0           794.0   \n",
       "2     39.13    -121.62                41.0       1317.0           309.0   \n",
       "3     34.24    -118.63                 9.0       4759.0           924.0   \n",
       "4     37.52    -122.30                38.0       2769.0           387.0   \n",
       "\n",
       "   population  households  median_income ocean_proximity  \\\n",
       "0      1404.0       374.0         2.3681       <1H OCEAN   \n",
       "1      2248.0       806.0        10.1357      NEAR OCEAN   \n",
       "2       856.0       337.0         1.6719          INLAND   \n",
       "3      1884.0       915.0         4.8333       <1H OCEAN   \n",
       "4       994.0       395.0         5.5902      NEAR OCEAN   \n",
       "\n",
       "   population_per_household  bedrooms_per_room  rooms_per_household  \\\n",
       "0                  3.922460           0.259714             3.922460   \n",
       "1                  7.564516           0.130228             7.564516   \n",
       "2                  3.908012           0.234624             3.908012   \n",
       "3                  5.201093           0.194158             5.201093   \n",
       "4                  7.010127           0.139762             7.010127   \n",
       "\n",
       "   above_average  \n",
       "0              1  \n",
       "1              1  \n",
       "2              0  \n",
       "3              1  \n",
       "4              1  "
      ]
     },
     "execution_count": 29,
     "metadata": {},
     "output_type": "execute_result"
    }
   ],
   "source": [
    "df_train.head()"
   ]
  },
  {
   "cell_type": "code",
   "execution_count": 30,
   "id": "41379383",
   "metadata": {},
   "outputs": [],
   "source": [
    "y_train = df_train.above_average.values\n",
    "y_val = df_val.above_average.values\n",
    "y_test = df_test.above_average.values"
   ]
  },
  {
   "cell_type": "code",
   "execution_count": 31,
   "id": "d0d594d7",
   "metadata": {},
   "outputs": [],
   "source": [
    "# drop target column\n",
    "df_train = df_train.drop('above_average', axis=1)\n",
    "df_val = df_val.drop('above_average', axis=1)\n",
    "df_test = df_test.drop('above_average', axis=1)"
   ]
  },
  {
   "cell_type": "code",
   "execution_count": 32,
   "id": "09c30bd6",
   "metadata": {},
   "outputs": [
    {
     "data": {
      "text/html": [
       "<div>\n",
       "<style scoped>\n",
       "    .dataframe tbody tr th:only-of-type {\n",
       "        vertical-align: middle;\n",
       "    }\n",
       "\n",
       "    .dataframe tbody tr th {\n",
       "        vertical-align: top;\n",
       "    }\n",
       "\n",
       "    .dataframe thead th {\n",
       "        text-align: right;\n",
       "    }\n",
       "</style>\n",
       "<table border=\"1\" class=\"dataframe\">\n",
       "  <thead>\n",
       "    <tr style=\"text-align: right;\">\n",
       "      <th></th>\n",
       "      <th>latitude</th>\n",
       "      <th>longitude</th>\n",
       "      <th>housing_median_age</th>\n",
       "      <th>total_rooms</th>\n",
       "      <th>total_bedrooms</th>\n",
       "      <th>population</th>\n",
       "      <th>households</th>\n",
       "      <th>median_income</th>\n",
       "      <th>ocean_proximity</th>\n",
       "      <th>population_per_household</th>\n",
       "      <th>bedrooms_per_room</th>\n",
       "      <th>rooms_per_household</th>\n",
       "    </tr>\n",
       "  </thead>\n",
       "  <tbody>\n",
       "    <tr>\n",
       "      <th>0</th>\n",
       "      <td>34.43</td>\n",
       "      <td>-119.67</td>\n",
       "      <td>39.0</td>\n",
       "      <td>1467.0</td>\n",
       "      <td>381.0</td>\n",
       "      <td>1404.0</td>\n",
       "      <td>374.0</td>\n",
       "      <td>2.3681</td>\n",
       "      <td>&lt;1H OCEAN</td>\n",
       "      <td>3.922460</td>\n",
       "      <td>0.259714</td>\n",
       "      <td>3.922460</td>\n",
       "    </tr>\n",
       "    <tr>\n",
       "      <th>1</th>\n",
       "      <td>33.74</td>\n",
       "      <td>-118.32</td>\n",
       "      <td>24.0</td>\n",
       "      <td>6097.0</td>\n",
       "      <td>794.0</td>\n",
       "      <td>2248.0</td>\n",
       "      <td>806.0</td>\n",
       "      <td>10.1357</td>\n",
       "      <td>NEAR OCEAN</td>\n",
       "      <td>7.564516</td>\n",
       "      <td>0.130228</td>\n",
       "      <td>7.564516</td>\n",
       "    </tr>\n",
       "    <tr>\n",
       "      <th>2</th>\n",
       "      <td>39.13</td>\n",
       "      <td>-121.62</td>\n",
       "      <td>41.0</td>\n",
       "      <td>1317.0</td>\n",
       "      <td>309.0</td>\n",
       "      <td>856.0</td>\n",
       "      <td>337.0</td>\n",
       "      <td>1.6719</td>\n",
       "      <td>INLAND</td>\n",
       "      <td>3.908012</td>\n",
       "      <td>0.234624</td>\n",
       "      <td>3.908012</td>\n",
       "    </tr>\n",
       "    <tr>\n",
       "      <th>3</th>\n",
       "      <td>34.24</td>\n",
       "      <td>-118.63</td>\n",
       "      <td>9.0</td>\n",
       "      <td>4759.0</td>\n",
       "      <td>924.0</td>\n",
       "      <td>1884.0</td>\n",
       "      <td>915.0</td>\n",
       "      <td>4.8333</td>\n",
       "      <td>&lt;1H OCEAN</td>\n",
       "      <td>5.201093</td>\n",
       "      <td>0.194158</td>\n",
       "      <td>5.201093</td>\n",
       "    </tr>\n",
       "    <tr>\n",
       "      <th>4</th>\n",
       "      <td>37.52</td>\n",
       "      <td>-122.30</td>\n",
       "      <td>38.0</td>\n",
       "      <td>2769.0</td>\n",
       "      <td>387.0</td>\n",
       "      <td>994.0</td>\n",
       "      <td>395.0</td>\n",
       "      <td>5.5902</td>\n",
       "      <td>NEAR OCEAN</td>\n",
       "      <td>7.010127</td>\n",
       "      <td>0.139762</td>\n",
       "      <td>7.010127</td>\n",
       "    </tr>\n",
       "  </tbody>\n",
       "</table>\n",
       "</div>"
      ],
      "text/plain": [
       "   latitude  longitude  housing_median_age  total_rooms  total_bedrooms  \\\n",
       "0     34.43    -119.67                39.0       1467.0           381.0   \n",
       "1     33.74    -118.32                24.0       6097.0           794.0   \n",
       "2     39.13    -121.62                41.0       1317.0           309.0   \n",
       "3     34.24    -118.63                 9.0       4759.0           924.0   \n",
       "4     37.52    -122.30                38.0       2769.0           387.0   \n",
       "\n",
       "   population  households  median_income ocean_proximity  \\\n",
       "0      1404.0       374.0         2.3681       <1H OCEAN   \n",
       "1      2248.0       806.0        10.1357      NEAR OCEAN   \n",
       "2       856.0       337.0         1.6719          INLAND   \n",
       "3      1884.0       915.0         4.8333       <1H OCEAN   \n",
       "4       994.0       395.0         5.5902      NEAR OCEAN   \n",
       "\n",
       "   population_per_household  bedrooms_per_room  rooms_per_household  \n",
       "0                  3.922460           0.259714             3.922460  \n",
       "1                  7.564516           0.130228             7.564516  \n",
       "2                  3.908012           0.234624             3.908012  \n",
       "3                  5.201093           0.194158             5.201093  \n",
       "4                  7.010127           0.139762             7.010127  "
      ]
     },
     "execution_count": 32,
     "metadata": {},
     "output_type": "execute_result"
    }
   ],
   "source": [
    "df_train.head()"
   ]
  },
  {
   "cell_type": "markdown",
   "id": "0e1c0db9",
   "metadata": {},
   "source": [
    "### Question 3"
   ]
  },
  {
   "cell_type": "code",
   "execution_count": 33,
   "id": "ab116edd",
   "metadata": {},
   "outputs": [
    {
     "data": {
      "text/plain": [
       "0.1"
      ]
     },
     "execution_count": 33,
     "metadata": {},
     "output_type": "execute_result"
    }
   ],
   "source": [
    "mi_score = round(mutual_info_score(df_full_train.above_average, df_full_train.ocean_proximity), 2)\n",
    "mi_score"
   ]
  },
  {
   "cell_type": "markdown",
   "id": "402377b0",
   "metadata": {},
   "source": [
    "The MI Score is **0.10**"
   ]
  },
  {
   "cell_type": "markdown",
   "id": "e113be11",
   "metadata": {},
   "source": [
    "### Question 4\n",
    "Train model and get val accuracy"
   ]
  },
  {
   "cell_type": "code",
   "execution_count": 34,
   "id": "225aac0d",
   "metadata": {},
   "outputs": [],
   "source": [
    "# perfrom linear regression\n",
    "from sklearn.linear_model import LogisticRegression\n",
    "from sklearn.feature_extraction import DictVectorizer\n",
    "from sklearn.metrics import accuracy_score"
   ]
  },
  {
   "cell_type": "code",
   "execution_count": 35,
   "id": "3dcf005f",
   "metadata": {},
   "outputs": [],
   "source": [
    "train_dict = df_train.to_dict(orient='records')\n",
    "dv = DictVectorizer(sparse=False)\n",
    "X_train = dv.fit_transform(train_dict)"
   ]
  },
  {
   "cell_type": "code",
   "execution_count": 36,
   "id": "116b6434",
   "metadata": {},
   "outputs": [
    {
     "data": {
      "text/plain": [
       "array(['bedrooms_per_room', 'households', 'housing_median_age',\n",
       "       'latitude', 'longitude', 'median_income',\n",
       "       'ocean_proximity=<1H OCEAN', 'ocean_proximity=INLAND',\n",
       "       'ocean_proximity=ISLAND', 'ocean_proximity=NEAR BAY',\n",
       "       'ocean_proximity=NEAR OCEAN', 'population',\n",
       "       'population_per_household', 'rooms_per_household',\n",
       "       'total_bedrooms', 'total_rooms'], dtype=object)"
      ]
     },
     "execution_count": 36,
     "metadata": {},
     "output_type": "execute_result"
    }
   ],
   "source": [
    "dv.get_feature_names_out()"
   ]
  },
  {
   "cell_type": "code",
   "execution_count": 37,
   "id": "8a3676be",
   "metadata": {},
   "outputs": [],
   "source": [
    "val_dict = df_val.to_dict(orient='records')\n",
    "X_val = dv.transform(val_dict)"
   ]
  },
  {
   "cell_type": "code",
   "execution_count": 38,
   "id": "867afcd2",
   "metadata": {},
   "outputs": [
    {
     "data": {
      "text/plain": [
       "array([1, 1, 0, ..., 1, 0, 0])"
      ]
     },
     "execution_count": 38,
     "metadata": {},
     "output_type": "execute_result"
    }
   ],
   "source": [
    "y_train"
   ]
  },
  {
   "cell_type": "code",
   "execution_count": 39,
   "id": "25a581cf",
   "metadata": {},
   "outputs": [],
   "source": [
    "model = LogisticRegression(solver=\"liblinear\", C=1.0, max_iter=1000, random_state=42)"
   ]
  },
  {
   "cell_type": "code",
   "execution_count": 40,
   "id": "c81ebcce",
   "metadata": {},
   "outputs": [
    {
     "data": {
      "text/plain": [
       "LogisticRegression(max_iter=1000, random_state=42, solver='liblinear')"
      ]
     },
     "execution_count": 40,
     "metadata": {},
     "output_type": "execute_result"
    }
   ],
   "source": [
    "model.fit(X_train, y_train)"
   ]
  },
  {
   "cell_type": "code",
   "execution_count": 41,
   "id": "651907ad",
   "metadata": {},
   "outputs": [
    {
     "data": {
      "text/plain": [
       "-0.6712090755926151"
      ]
     },
     "execution_count": 41,
     "metadata": {},
     "output_type": "execute_result"
    }
   ],
   "source": [
    "model.intercept_[0]"
   ]
  },
  {
   "cell_type": "code",
   "execution_count": 42,
   "id": "10aac4dd",
   "metadata": {},
   "outputs": [
    {
     "data": {
      "text/plain": [
       "array([ 2.06679629e+00,  4.08720511e-03,  3.74860439e-02,  1.52342709e-01,\n",
       "        9.72169582e-02,  1.25782539e+00,  2.99706035e-01, -1.97123016e+00,\n",
       "        2.20735497e-01, -7.91200552e-02,  8.58699608e-01, -1.61745306e-03,\n",
       "        4.95629293e-04,  4.95629293e-04,  1.47244505e-03, -9.64004446e-05])"
      ]
     },
     "execution_count": 42,
     "metadata": {},
     "output_type": "execute_result"
    }
   ],
   "source": [
    "w = model.coef_[0]\n",
    "w"
   ]
  },
  {
   "cell_type": "code",
   "execution_count": 43,
   "id": "bc1a2a15",
   "metadata": {
    "scrolled": true
   },
   "outputs": [
    {
     "data": {
      "text/plain": [
       "{'bedrooms_per_room': 2.066796294892757,\n",
       " 'households': 0.004087205110204339,\n",
       " 'housing_median_age': 0.037486043944174326,\n",
       " 'latitude': 0.15234270859927201,\n",
       " 'longitude': 0.09721695816812888,\n",
       " 'median_income': 1.257825389439244,\n",
       " 'ocean_proximity=<1H OCEAN': 0.29970603514751915,\n",
       " 'ocean_proximity=INLAND': -1.9712301607941782,\n",
       " 'ocean_proximity=ISLAND': 0.22073549711454327,\n",
       " 'ocean_proximity=NEAR BAY': -0.07912005516647481,\n",
       " 'ocean_proximity=NEAR OCEAN': 0.8586996081054602,\n",
       " 'population': -0.0016174530645548647,\n",
       " 'population_per_household': 0.0004956292926459088,\n",
       " 'rooms_per_household': 0.0004956292926459088,\n",
       " 'total_bedrooms': 0.0014724450546622324,\n",
       " 'total_rooms': -9.640044455545786e-05}"
      ]
     },
     "execution_count": 43,
     "metadata": {},
     "output_type": "execute_result"
    }
   ],
   "source": [
    "dict(zip(dv.get_feature_names_out(), w))"
   ]
  },
  {
   "cell_type": "code",
   "execution_count": 44,
   "id": "008b884c",
   "metadata": {},
   "outputs": [],
   "source": [
    "y_pred = model.predict_proba(X_val)[:, 1]"
   ]
  },
  {
   "cell_type": "code",
   "execution_count": 45,
   "id": "f772ce38",
   "metadata": {},
   "outputs": [
    {
     "data": {
      "text/plain": [
       "array([False, False,  True, ...,  True,  True, False])"
      ]
     },
     "execution_count": 45,
     "metadata": {},
     "output_type": "execute_result"
    }
   ],
   "source": [
    "above_average = (y_pred >= 0.5)\n",
    "above_average"
   ]
  },
  {
   "cell_type": "code",
   "execution_count": 46,
   "id": "5985cc31",
   "metadata": {},
   "outputs": [
    {
     "data": {
      "text/plain": [
       "0.84"
      ]
     },
     "execution_count": 46,
     "metadata": {},
     "output_type": "execute_result"
    }
   ],
   "source": [
    "original_accuracy = accuracy_score(y_val, y_pred >= 0.5).round(2)\n",
    "original_accuracy"
   ]
  },
  {
   "cell_type": "markdown",
   "id": "f87115a8",
   "metadata": {},
   "source": [
    "The accuracy score is **0.84**"
   ]
  },
  {
   "cell_type": "markdown",
   "id": "b25f63ed",
   "metadata": {},
   "source": [
    "### Question 5\n"
   ]
  },
  {
   "cell_type": "code",
   "execution_count": 47,
   "id": "53494e22",
   "metadata": {},
   "outputs": [
    {
     "data": {
      "text/plain": [
       "['latitude',\n",
       " 'longitude',\n",
       " 'housing_median_age',\n",
       " 'total_rooms',\n",
       " 'total_bedrooms',\n",
       " 'population',\n",
       " 'households',\n",
       " 'median_income',\n",
       " 'ocean_proximity',\n",
       " 'population_per_household',\n",
       " 'bedrooms_per_room',\n",
       " 'rooms_per_household']"
      ]
     },
     "execution_count": 47,
     "metadata": {},
     "output_type": "execute_result"
    }
   ],
   "source": [
    "n_features = list(df.columns)[:-1]\n",
    "n_features"
   ]
  },
  {
   "cell_type": "code",
   "execution_count": 48,
   "id": "66c49319",
   "metadata": {},
   "outputs": [],
   "source": [
    "df_train_c = df_train.copy()\n",
    "del df_train_c['ocean_proximity']"
   ]
  },
  {
   "cell_type": "code",
   "execution_count": 49,
   "id": "579072ff",
   "metadata": {},
   "outputs": [
    {
     "data": {
      "text/html": [
       "<div>\n",
       "<style scoped>\n",
       "    .dataframe tbody tr th:only-of-type {\n",
       "        vertical-align: middle;\n",
       "    }\n",
       "\n",
       "    .dataframe tbody tr th {\n",
       "        vertical-align: top;\n",
       "    }\n",
       "\n",
       "    .dataframe thead th {\n",
       "        text-align: right;\n",
       "    }\n",
       "</style>\n",
       "<table border=\"1\" class=\"dataframe\">\n",
       "  <thead>\n",
       "    <tr style=\"text-align: right;\">\n",
       "      <th></th>\n",
       "      <th>latitude</th>\n",
       "      <th>longitude</th>\n",
       "      <th>housing_median_age</th>\n",
       "      <th>total_rooms</th>\n",
       "      <th>total_bedrooms</th>\n",
       "      <th>population</th>\n",
       "      <th>households</th>\n",
       "      <th>median_income</th>\n",
       "      <th>population_per_household</th>\n",
       "      <th>bedrooms_per_room</th>\n",
       "      <th>rooms_per_household</th>\n",
       "    </tr>\n",
       "  </thead>\n",
       "  <tbody>\n",
       "    <tr>\n",
       "      <th>0</th>\n",
       "      <td>34.43</td>\n",
       "      <td>-119.67</td>\n",
       "      <td>39.0</td>\n",
       "      <td>1467.0</td>\n",
       "      <td>381.0</td>\n",
       "      <td>1404.0</td>\n",
       "      <td>374.0</td>\n",
       "      <td>2.3681</td>\n",
       "      <td>3.922460</td>\n",
       "      <td>0.259714</td>\n",
       "      <td>3.922460</td>\n",
       "    </tr>\n",
       "    <tr>\n",
       "      <th>1</th>\n",
       "      <td>33.74</td>\n",
       "      <td>-118.32</td>\n",
       "      <td>24.0</td>\n",
       "      <td>6097.0</td>\n",
       "      <td>794.0</td>\n",
       "      <td>2248.0</td>\n",
       "      <td>806.0</td>\n",
       "      <td>10.1357</td>\n",
       "      <td>7.564516</td>\n",
       "      <td>0.130228</td>\n",
       "      <td>7.564516</td>\n",
       "    </tr>\n",
       "    <tr>\n",
       "      <th>2</th>\n",
       "      <td>39.13</td>\n",
       "      <td>-121.62</td>\n",
       "      <td>41.0</td>\n",
       "      <td>1317.0</td>\n",
       "      <td>309.0</td>\n",
       "      <td>856.0</td>\n",
       "      <td>337.0</td>\n",
       "      <td>1.6719</td>\n",
       "      <td>3.908012</td>\n",
       "      <td>0.234624</td>\n",
       "      <td>3.908012</td>\n",
       "    </tr>\n",
       "    <tr>\n",
       "      <th>3</th>\n",
       "      <td>34.24</td>\n",
       "      <td>-118.63</td>\n",
       "      <td>9.0</td>\n",
       "      <td>4759.0</td>\n",
       "      <td>924.0</td>\n",
       "      <td>1884.0</td>\n",
       "      <td>915.0</td>\n",
       "      <td>4.8333</td>\n",
       "      <td>5.201093</td>\n",
       "      <td>0.194158</td>\n",
       "      <td>5.201093</td>\n",
       "    </tr>\n",
       "    <tr>\n",
       "      <th>4</th>\n",
       "      <td>37.52</td>\n",
       "      <td>-122.30</td>\n",
       "      <td>38.0</td>\n",
       "      <td>2769.0</td>\n",
       "      <td>387.0</td>\n",
       "      <td>994.0</td>\n",
       "      <td>395.0</td>\n",
       "      <td>5.5902</td>\n",
       "      <td>7.010127</td>\n",
       "      <td>0.139762</td>\n",
       "      <td>7.010127</td>\n",
       "    </tr>\n",
       "  </tbody>\n",
       "</table>\n",
       "</div>"
      ],
      "text/plain": [
       "   latitude  longitude  housing_median_age  total_rooms  total_bedrooms  \\\n",
       "0     34.43    -119.67                39.0       1467.0           381.0   \n",
       "1     33.74    -118.32                24.0       6097.0           794.0   \n",
       "2     39.13    -121.62                41.0       1317.0           309.0   \n",
       "3     34.24    -118.63                 9.0       4759.0           924.0   \n",
       "4     37.52    -122.30                38.0       2769.0           387.0   \n",
       "\n",
       "   population  households  median_income  population_per_household  \\\n",
       "0      1404.0       374.0         2.3681                  3.922460   \n",
       "1      2248.0       806.0        10.1357                  7.564516   \n",
       "2       856.0       337.0         1.6719                  3.908012   \n",
       "3      1884.0       915.0         4.8333                  5.201093   \n",
       "4       994.0       395.0         5.5902                  7.010127   \n",
       "\n",
       "   bedrooms_per_room  rooms_per_household  \n",
       "0           0.259714             3.922460  \n",
       "1           0.130228             7.564516  \n",
       "2           0.234624             3.908012  \n",
       "3           0.194158             5.201093  \n",
       "4           0.139762             7.010127  "
      ]
     },
     "execution_count": 49,
     "metadata": {},
     "output_type": "execute_result"
    }
   ],
   "source": [
    "df_train_c.head()"
   ]
  },
  {
   "cell_type": "code",
   "execution_count": 50,
   "id": "a44723b4",
   "metadata": {},
   "outputs": [],
   "source": [
    "train_dict_c = df_train_c.to_dict(orient='records')\n",
    "dv_c = DictVectorizer(sparse=False)\n",
    "X_train_c = dv_c.fit_transform(train_dict_c)"
   ]
  },
  {
   "cell_type": "code",
   "execution_count": 51,
   "id": "333c40b2",
   "metadata": {},
   "outputs": [
    {
     "data": {
      "text/plain": [
       "array(['bedrooms_per_room', 'households', 'housing_median_age',\n",
       "       'latitude', 'longitude', 'median_income', 'population',\n",
       "       'population_per_household', 'rooms_per_household',\n",
       "       'total_bedrooms', 'total_rooms'], dtype=object)"
      ]
     },
     "execution_count": 51,
     "metadata": {},
     "output_type": "execute_result"
    }
   ],
   "source": [
    "dv_c.get_feature_names_out()"
   ]
  },
  {
   "cell_type": "code",
   "execution_count": 52,
   "id": "72c37a43",
   "metadata": {},
   "outputs": [],
   "source": [
    "df_val_c = df_val.copy()\n",
    "del df_val_c['ocean_proximity']"
   ]
  },
  {
   "cell_type": "code",
   "execution_count": 53,
   "id": "0bd58d35",
   "metadata": {},
   "outputs": [],
   "source": [
    "val_dict_c = df_val_c.to_dict(orient='records')\n",
    "X_val_c = dv_c.transform(val_dict_c)"
   ]
  },
  {
   "cell_type": "code",
   "execution_count": 54,
   "id": "91d84ef7",
   "metadata": {},
   "outputs": [
    {
     "data": {
      "text/plain": [
       "LogisticRegression(max_iter=1000, random_state=42, solver='liblinear')"
      ]
     },
     "execution_count": 54,
     "metadata": {},
     "output_type": "execute_result"
    }
   ],
   "source": [
    "model_c = LogisticRegression(solver=\"liblinear\", C=1.0, max_iter=1000, random_state=42)\n",
    "model_c.fit(X_train_c, y_train)"
   ]
  },
  {
   "cell_type": "code",
   "execution_count": 55,
   "id": "4148ce61",
   "metadata": {},
   "outputs": [],
   "source": [
    "y_pred_c = model_c.predict_proba(X_val_c)[:, 1]"
   ]
  },
  {
   "cell_type": "code",
   "execution_count": 56,
   "id": "dcad59f4",
   "metadata": {},
   "outputs": [
    {
     "data": {
      "text/plain": [
       "0.82"
      ]
     },
     "execution_count": 56,
     "metadata": {},
     "output_type": "execute_result"
    }
   ],
   "source": [
    "accuracy_score(y_val, y_pred_c >= 0.5).round(2)"
   ]
  },
  {
   "cell_type": "code",
   "execution_count": 57,
   "id": "53a98ec5",
   "metadata": {},
   "outputs": [],
   "source": [
    "def train_model(df_train, df_val, feature):\n",
    "    # make a copy and delete the feature\n",
    "    df_train_c = df_train.copy()\n",
    "    del df_train_c[feature]\n",
    "    \n",
    "    # convert to dictionaries\n",
    "    train_dict_c = df_train_c.to_dict(orient='records')\n",
    "    dv_c = DictVectorizer(sparse=False)\n",
    "    X_train_c = dv_c.fit_transform(train_dict_c)\n",
    "    \n",
    "    df_val_c = df_val.copy()\n",
    "    del df_val_c[feature]\n",
    "    \n",
    "    val_dict_c = df_val_c.to_dict(orient='records')\n",
    "    X_val_c = dv_c.transform(val_dict_c)\n",
    "    \n",
    "    model_c = LogisticRegression(solver=\"liblinear\", C=1.0, max_iter=1000, random_state=42)\n",
    "    model_c.fit(X_train_c, y_train)\n",
    "    \n",
    "    y_pred_c = model_c.predict_proba(X_val_c)[:, 1]\n",
    "    score = accuracy_score(y_val, y_pred_c >= 0.5).round(2)\n",
    "    print(\"{} has an accuracy of {}\".format(feature, score) )\n",
    "    difference = score - original_accuracy\n",
    "    return difference"
   ]
  },
  {
   "cell_type": "code",
   "execution_count": 58,
   "id": "eed022cc",
   "metadata": {},
   "outputs": [
    {
     "name": "stdout",
     "output_type": "stream",
     "text": [
      "latitude has an accuracy of 0.83\n",
      "Feature \"latitude\" has been removed accuracy of model is now = -0.01\n",
      "longitude has an accuracy of 0.83\n",
      "Feature \"longitude\" has been removed accuracy of model is now = -0.01\n",
      "housing_median_age has an accuracy of 0.83\n",
      "Feature \"housing_median_age\" has been removed accuracy of model is now = -0.01\n",
      "total_rooms has an accuracy of 0.84\n",
      "Feature \"total_rooms\" has been removed accuracy of model is now = 0.0\n",
      "total_bedrooms has an accuracy of 0.84\n",
      "Feature \"total_bedrooms\" has been removed accuracy of model is now = 0.0\n",
      "population has an accuracy of 0.82\n",
      "Feature \"population\" has been removed accuracy of model is now = -0.02\n",
      "households has an accuracy of 0.83\n",
      "Feature \"households\" has been removed accuracy of model is now = -0.01\n",
      "median_income has an accuracy of 0.79\n",
      "Feature \"median_income\" has been removed accuracy of model is now = -0.05\n",
      "ocean_proximity has an accuracy of 0.82\n",
      "Feature \"ocean_proximity\" has been removed accuracy of model is now = -0.02\n",
      "population_per_household has an accuracy of 0.84\n",
      "Feature \"population_per_household\" has been removed accuracy of model is now = 0.0\n",
      "bedrooms_per_room has an accuracy of 0.84\n",
      "Feature \"bedrooms_per_room\" has been removed accuracy of model is now = 0.0\n",
      "rooms_per_household has an accuracy of 0.84\n",
      "Feature \"rooms_per_household\" has been removed accuracy of model is now = 0.0\n"
     ]
    }
   ],
   "source": [
    "for feature in n_features:\n",
    "    score = train_model(df_train, df_val, feature)\n",
    "    print('Feature \"{}\" has been removed accuracy of model is now = {}'.format(feature, score.round(4)))"
   ]
  },
  {
   "cell_type": "markdown",
   "id": "746beef4",
   "metadata": {},
   "source": [
    "**Excluding the last 3 features, the least is *total_rooms***"
   ]
  },
  {
   "cell_type": "markdown",
   "id": "ff9fca7f",
   "metadata": {},
   "source": [
    "### Question 6\n",
    "Train Linear Regression Model"
   ]
  },
  {
   "cell_type": "code",
   "execution_count": 59,
   "id": "0f76c4cd",
   "metadata": {},
   "outputs": [],
   "source": [
    "# get libraries\n",
    "from sklearn.linear_model import LinearRegression\n",
    "from sklearn.linear_model import Ridge\n",
    "from sklearn.metrics import mean_squared_error"
   ]
  },
  {
   "cell_type": "code",
   "execution_count": 60,
   "id": "277f91df",
   "metadata": {},
   "outputs": [],
   "source": [
    "df = pd.read_csv('housing.csv')"
   ]
  },
  {
   "cell_type": "code",
   "execution_count": 61,
   "id": "06cd7171",
   "metadata": {},
   "outputs": [
    {
     "data": {
      "text/html": [
       "<div>\n",
       "<style scoped>\n",
       "    .dataframe tbody tr th:only-of-type {\n",
       "        vertical-align: middle;\n",
       "    }\n",
       "\n",
       "    .dataframe tbody tr th {\n",
       "        vertical-align: top;\n",
       "    }\n",
       "\n",
       "    .dataframe thead th {\n",
       "        text-align: right;\n",
       "    }\n",
       "</style>\n",
       "<table border=\"1\" class=\"dataframe\">\n",
       "  <thead>\n",
       "    <tr style=\"text-align: right;\">\n",
       "      <th></th>\n",
       "      <th>longitude</th>\n",
       "      <th>latitude</th>\n",
       "      <th>housing_median_age</th>\n",
       "      <th>total_rooms</th>\n",
       "      <th>total_bedrooms</th>\n",
       "      <th>population</th>\n",
       "      <th>households</th>\n",
       "      <th>median_income</th>\n",
       "      <th>median_house_value</th>\n",
       "      <th>ocean_proximity</th>\n",
       "    </tr>\n",
       "  </thead>\n",
       "  <tbody>\n",
       "    <tr>\n",
       "      <th>0</th>\n",
       "      <td>-122.23</td>\n",
       "      <td>37.88</td>\n",
       "      <td>41.0</td>\n",
       "      <td>880.0</td>\n",
       "      <td>129.0</td>\n",
       "      <td>322.0</td>\n",
       "      <td>126.0</td>\n",
       "      <td>8.3252</td>\n",
       "      <td>452600.0</td>\n",
       "      <td>NEAR BAY</td>\n",
       "    </tr>\n",
       "    <tr>\n",
       "      <th>1</th>\n",
       "      <td>-122.22</td>\n",
       "      <td>37.86</td>\n",
       "      <td>21.0</td>\n",
       "      <td>7099.0</td>\n",
       "      <td>1106.0</td>\n",
       "      <td>2401.0</td>\n",
       "      <td>1138.0</td>\n",
       "      <td>8.3014</td>\n",
       "      <td>358500.0</td>\n",
       "      <td>NEAR BAY</td>\n",
       "    </tr>\n",
       "    <tr>\n",
       "      <th>2</th>\n",
       "      <td>-122.24</td>\n",
       "      <td>37.85</td>\n",
       "      <td>52.0</td>\n",
       "      <td>1467.0</td>\n",
       "      <td>190.0</td>\n",
       "      <td>496.0</td>\n",
       "      <td>177.0</td>\n",
       "      <td>7.2574</td>\n",
       "      <td>352100.0</td>\n",
       "      <td>NEAR BAY</td>\n",
       "    </tr>\n",
       "    <tr>\n",
       "      <th>3</th>\n",
       "      <td>-122.25</td>\n",
       "      <td>37.85</td>\n",
       "      <td>52.0</td>\n",
       "      <td>1274.0</td>\n",
       "      <td>235.0</td>\n",
       "      <td>558.0</td>\n",
       "      <td>219.0</td>\n",
       "      <td>5.6431</td>\n",
       "      <td>341300.0</td>\n",
       "      <td>NEAR BAY</td>\n",
       "    </tr>\n",
       "    <tr>\n",
       "      <th>4</th>\n",
       "      <td>-122.25</td>\n",
       "      <td>37.85</td>\n",
       "      <td>52.0</td>\n",
       "      <td>1627.0</td>\n",
       "      <td>280.0</td>\n",
       "      <td>565.0</td>\n",
       "      <td>259.0</td>\n",
       "      <td>3.8462</td>\n",
       "      <td>342200.0</td>\n",
       "      <td>NEAR BAY</td>\n",
       "    </tr>\n",
       "  </tbody>\n",
       "</table>\n",
       "</div>"
      ],
      "text/plain": [
       "   longitude  latitude  housing_median_age  total_rooms  total_bedrooms  \\\n",
       "0    -122.23     37.88                41.0        880.0           129.0   \n",
       "1    -122.22     37.86                21.0       7099.0          1106.0   \n",
       "2    -122.24     37.85                52.0       1467.0           190.0   \n",
       "3    -122.25     37.85                52.0       1274.0           235.0   \n",
       "4    -122.25     37.85                52.0       1627.0           280.0   \n",
       "\n",
       "   population  households  median_income  median_house_value ocean_proximity  \n",
       "0       322.0       126.0         8.3252            452600.0        NEAR BAY  \n",
       "1      2401.0      1138.0         8.3014            358500.0        NEAR BAY  \n",
       "2       496.0       177.0         7.2574            352100.0        NEAR BAY  \n",
       "3       558.0       219.0         5.6431            341300.0        NEAR BAY  \n",
       "4       565.0       259.0         3.8462            342200.0        NEAR BAY  "
      ]
     },
     "execution_count": 61,
     "metadata": {},
     "output_type": "execute_result"
    }
   ],
   "source": [
    "df.head()"
   ]
  },
  {
   "cell_type": "code",
   "execution_count": 62,
   "id": "259004e7",
   "metadata": {},
   "outputs": [
    {
     "data": {
      "text/plain": [
       "0        13.022766\n",
       "1        12.789687\n",
       "2        12.771673\n",
       "3        12.740520\n",
       "4        12.743154\n",
       "           ...    \n",
       "20635    11.265758\n",
       "20636    11.252872\n",
       "20637    11.432810\n",
       "20638    11.346883\n",
       "20639    11.400887\n",
       "Name: median_house_value, Length: 20640, dtype: float64"
      ]
     },
     "execution_count": 62,
     "metadata": {},
     "output_type": "execute_result"
    }
   ],
   "source": [
    "df['median_house_value']=np.log1p(df['median_house_value'])\n",
    "df.median_house_value"
   ]
  },
  {
   "cell_type": "code",
   "execution_count": 63,
   "id": "78b758fb",
   "metadata": {},
   "outputs": [
    {
     "data": {
      "text/html": [
       "<div>\n",
       "<style scoped>\n",
       "    .dataframe tbody tr th:only-of-type {\n",
       "        vertical-align: middle;\n",
       "    }\n",
       "\n",
       "    .dataframe tbody tr th {\n",
       "        vertical-align: top;\n",
       "    }\n",
       "\n",
       "    .dataframe thead th {\n",
       "        text-align: right;\n",
       "    }\n",
       "</style>\n",
       "<table border=\"1\" class=\"dataframe\">\n",
       "  <thead>\n",
       "    <tr style=\"text-align: right;\">\n",
       "      <th></th>\n",
       "      <th>longitude</th>\n",
       "      <th>latitude</th>\n",
       "      <th>housing_median_age</th>\n",
       "      <th>total_rooms</th>\n",
       "      <th>total_bedrooms</th>\n",
       "      <th>population</th>\n",
       "      <th>households</th>\n",
       "      <th>median_income</th>\n",
       "      <th>median_house_value</th>\n",
       "      <th>ocean_proximity</th>\n",
       "    </tr>\n",
       "  </thead>\n",
       "  <tbody>\n",
       "    <tr>\n",
       "      <th>0</th>\n",
       "      <td>-122.23</td>\n",
       "      <td>37.88</td>\n",
       "      <td>41.0</td>\n",
       "      <td>880.0</td>\n",
       "      <td>129.0</td>\n",
       "      <td>322.0</td>\n",
       "      <td>126.0</td>\n",
       "      <td>8.3252</td>\n",
       "      <td>13.022766</td>\n",
       "      <td>NEAR BAY</td>\n",
       "    </tr>\n",
       "    <tr>\n",
       "      <th>1</th>\n",
       "      <td>-122.22</td>\n",
       "      <td>37.86</td>\n",
       "      <td>21.0</td>\n",
       "      <td>7099.0</td>\n",
       "      <td>1106.0</td>\n",
       "      <td>2401.0</td>\n",
       "      <td>1138.0</td>\n",
       "      <td>8.3014</td>\n",
       "      <td>12.789687</td>\n",
       "      <td>NEAR BAY</td>\n",
       "    </tr>\n",
       "    <tr>\n",
       "      <th>2</th>\n",
       "      <td>-122.24</td>\n",
       "      <td>37.85</td>\n",
       "      <td>52.0</td>\n",
       "      <td>1467.0</td>\n",
       "      <td>190.0</td>\n",
       "      <td>496.0</td>\n",
       "      <td>177.0</td>\n",
       "      <td>7.2574</td>\n",
       "      <td>12.771673</td>\n",
       "      <td>NEAR BAY</td>\n",
       "    </tr>\n",
       "    <tr>\n",
       "      <th>3</th>\n",
       "      <td>-122.25</td>\n",
       "      <td>37.85</td>\n",
       "      <td>52.0</td>\n",
       "      <td>1274.0</td>\n",
       "      <td>235.0</td>\n",
       "      <td>558.0</td>\n",
       "      <td>219.0</td>\n",
       "      <td>5.6431</td>\n",
       "      <td>12.740520</td>\n",
       "      <td>NEAR BAY</td>\n",
       "    </tr>\n",
       "    <tr>\n",
       "      <th>4</th>\n",
       "      <td>-122.25</td>\n",
       "      <td>37.85</td>\n",
       "      <td>52.0</td>\n",
       "      <td>1627.0</td>\n",
       "      <td>280.0</td>\n",
       "      <td>565.0</td>\n",
       "      <td>259.0</td>\n",
       "      <td>3.8462</td>\n",
       "      <td>12.743154</td>\n",
       "      <td>NEAR BAY</td>\n",
       "    </tr>\n",
       "  </tbody>\n",
       "</table>\n",
       "</div>"
      ],
      "text/plain": [
       "   longitude  latitude  housing_median_age  total_rooms  total_bedrooms  \\\n",
       "0    -122.23     37.88                41.0        880.0           129.0   \n",
       "1    -122.22     37.86                21.0       7099.0          1106.0   \n",
       "2    -122.24     37.85                52.0       1467.0           190.0   \n",
       "3    -122.25     37.85                52.0       1274.0           235.0   \n",
       "4    -122.25     37.85                52.0       1627.0           280.0   \n",
       "\n",
       "   population  households  median_income  median_house_value ocean_proximity  \n",
       "0       322.0       126.0         8.3252           13.022766        NEAR BAY  \n",
       "1      2401.0      1138.0         8.3014           12.789687        NEAR BAY  \n",
       "2       496.0       177.0         7.2574           12.771673        NEAR BAY  \n",
       "3       558.0       219.0         5.6431           12.740520        NEAR BAY  \n",
       "4       565.0       259.0         3.8462           12.743154        NEAR BAY  "
      ]
     },
     "execution_count": 63,
     "metadata": {},
     "output_type": "execute_result"
    }
   ],
   "source": [
    "df.head()"
   ]
  },
  {
   "cell_type": "code",
   "execution_count": 64,
   "id": "0844946e",
   "metadata": {},
   "outputs": [],
   "source": [
    "df_train_full, df_test = train_test_split(df, test_size=0.2, random_state=42)\n",
    "df_train, df_val = train_test_split(df_train_full, test_size=0.25, random_state=42)"
   ]
  },
  {
   "cell_type": "code",
   "execution_count": 65,
   "id": "f8f8d77f",
   "metadata": {},
   "outputs": [
    {
     "data": {
      "text/plain": [
       "(0.6, 0.2, 0.2)"
      ]
     },
     "execution_count": 65,
     "metadata": {},
     "output_type": "execute_result"
    }
   ],
   "source": [
    "# sanity check\n",
    "(len(df_train) / len(df)), (len(df_val) / len(df)), (len(df_val) / len(df))"
   ]
  },
  {
   "cell_type": "code",
   "execution_count": 66,
   "id": "44fc5b4b",
   "metadata": {},
   "outputs": [],
   "source": [
    "df_train = df_train.reset_index(drop=True)\n",
    "df_val = df_val.reset_index(drop=True)\n",
    "df_test = df_test.reset_index(drop=True)"
   ]
  },
  {
   "cell_type": "code",
   "execution_count": 67,
   "id": "66c87f6f",
   "metadata": {},
   "outputs": [
    {
     "data": {
      "text/html": [
       "<div>\n",
       "<style scoped>\n",
       "    .dataframe tbody tr th:only-of-type {\n",
       "        vertical-align: middle;\n",
       "    }\n",
       "\n",
       "    .dataframe tbody tr th {\n",
       "        vertical-align: top;\n",
       "    }\n",
       "\n",
       "    .dataframe thead th {\n",
       "        text-align: right;\n",
       "    }\n",
       "</style>\n",
       "<table border=\"1\" class=\"dataframe\">\n",
       "  <thead>\n",
       "    <tr style=\"text-align: right;\">\n",
       "      <th></th>\n",
       "      <th>longitude</th>\n",
       "      <th>latitude</th>\n",
       "      <th>housing_median_age</th>\n",
       "      <th>total_rooms</th>\n",
       "      <th>total_bedrooms</th>\n",
       "      <th>population</th>\n",
       "      <th>households</th>\n",
       "      <th>median_income</th>\n",
       "      <th>median_house_value</th>\n",
       "      <th>ocean_proximity</th>\n",
       "    </tr>\n",
       "  </thead>\n",
       "  <tbody>\n",
       "    <tr>\n",
       "      <th>0</th>\n",
       "      <td>-119.67</td>\n",
       "      <td>34.43</td>\n",
       "      <td>39.0</td>\n",
       "      <td>1467.0</td>\n",
       "      <td>381.0</td>\n",
       "      <td>1404.0</td>\n",
       "      <td>374.0</td>\n",
       "      <td>2.3681</td>\n",
       "      <td>12.394215</td>\n",
       "      <td>&lt;1H OCEAN</td>\n",
       "    </tr>\n",
       "    <tr>\n",
       "      <th>1</th>\n",
       "      <td>-118.32</td>\n",
       "      <td>33.74</td>\n",
       "      <td>24.0</td>\n",
       "      <td>6097.0</td>\n",
       "      <td>794.0</td>\n",
       "      <td>2248.0</td>\n",
       "      <td>806.0</td>\n",
       "      <td>10.1357</td>\n",
       "      <td>13.122367</td>\n",
       "      <td>NEAR OCEAN</td>\n",
       "    </tr>\n",
       "    <tr>\n",
       "      <th>2</th>\n",
       "      <td>-121.62</td>\n",
       "      <td>39.13</td>\n",
       "      <td>41.0</td>\n",
       "      <td>1317.0</td>\n",
       "      <td>309.0</td>\n",
       "      <td>856.0</td>\n",
       "      <td>337.0</td>\n",
       "      <td>1.6719</td>\n",
       "      <td>11.068215</td>\n",
       "      <td>INLAND</td>\n",
       "    </tr>\n",
       "    <tr>\n",
       "      <th>3</th>\n",
       "      <td>-118.63</td>\n",
       "      <td>34.24</td>\n",
       "      <td>9.0</td>\n",
       "      <td>4759.0</td>\n",
       "      <td>924.0</td>\n",
       "      <td>1884.0</td>\n",
       "      <td>915.0</td>\n",
       "      <td>4.8333</td>\n",
       "      <td>12.532498</td>\n",
       "      <td>&lt;1H OCEAN</td>\n",
       "    </tr>\n",
       "    <tr>\n",
       "      <th>4</th>\n",
       "      <td>-122.30</td>\n",
       "      <td>37.52</td>\n",
       "      <td>38.0</td>\n",
       "      <td>2769.0</td>\n",
       "      <td>387.0</td>\n",
       "      <td>994.0</td>\n",
       "      <td>395.0</td>\n",
       "      <td>5.5902</td>\n",
       "      <td>12.940844</td>\n",
       "      <td>NEAR OCEAN</td>\n",
       "    </tr>\n",
       "  </tbody>\n",
       "</table>\n",
       "</div>"
      ],
      "text/plain": [
       "   longitude  latitude  housing_median_age  total_rooms  total_bedrooms  \\\n",
       "0    -119.67     34.43                39.0       1467.0           381.0   \n",
       "1    -118.32     33.74                24.0       6097.0           794.0   \n",
       "2    -121.62     39.13                41.0       1317.0           309.0   \n",
       "3    -118.63     34.24                 9.0       4759.0           924.0   \n",
       "4    -122.30     37.52                38.0       2769.0           387.0   \n",
       "\n",
       "   population  households  median_income  median_house_value ocean_proximity  \n",
       "0      1404.0       374.0         2.3681           12.394215       <1H OCEAN  \n",
       "1      2248.0       806.0        10.1357           13.122367      NEAR OCEAN  \n",
       "2       856.0       337.0         1.6719           11.068215          INLAND  \n",
       "3      1884.0       915.0         4.8333           12.532498       <1H OCEAN  \n",
       "4       994.0       395.0         5.5902           12.940844      NEAR OCEAN  "
      ]
     },
     "execution_count": 67,
     "metadata": {},
     "output_type": "execute_result"
    }
   ],
   "source": [
    "df_train.head()"
   ]
  },
  {
   "cell_type": "code",
   "execution_count": 68,
   "id": "b6c8d5a9",
   "metadata": {},
   "outputs": [],
   "source": [
    "y_train = df_train.median_house_value.values\n",
    "y_val = df_val.median_house_value.values\n",
    "y_test = df_test.median_house_value.values"
   ]
  },
  {
   "cell_type": "code",
   "execution_count": 69,
   "id": "470e7c1a",
   "metadata": {},
   "outputs": [],
   "source": [
    "df_train = df_train.drop('median_house_value', axis=1)\n",
    "df_val = df_val.drop('median_house_value', axis=1)\n",
    "df_test = df_test.drop('median_house_value', axis=1)"
   ]
  },
  {
   "cell_type": "code",
   "execution_count": 70,
   "id": "41981f40",
   "metadata": {},
   "outputs": [],
   "source": [
    "train_dict = df_train.to_dict(orient='records')\n",
    "dv = DictVectorizer(sparse=False)\n",
    "X_train = dv.fit_transform(train_dict)"
   ]
  },
  {
   "cell_type": "code",
   "execution_count": 71,
   "id": "ba08f158",
   "metadata": {},
   "outputs": [],
   "source": [
    "val_dict = df_val.to_dict(orient='records')\n",
    "X_val = dv.transform(val_dict)"
   ]
  },
  {
   "cell_type": "code",
   "execution_count": 72,
   "id": "4a8cd072",
   "metadata": {},
   "outputs": [
    {
     "name": "stdout",
     "output_type": "stream",
     "text": [
      "Reglarization parameter: 0 and rmse is 0.525\n",
      "Reglarization parameter: 0.01 and rmse is 0.525\n",
      "Reglarization parameter: 0.1 and rmse is 0.525\n",
      "Reglarization parameter: 1 and rmse is 0.525\n",
      "Reglarization parameter: 10 and rmse is 0.525\n"
     ]
    }
   ],
   "source": [
    "for a in  [0, 0.01, 0.1, 1, 10]:\n",
    "    model = Ridge(alpha=a, solver=\"sag\", random_state=42)\n",
    "    model.fit(X_train, y_train)\n",
    "    \n",
    "    y_pred = model.predict(X_val)\n",
    "    score = np.sqrt(mean_squared_error(y_val, y_pred))\n",
    "    \n",
    "    print('Reglarization parameter: {} and rmse is {}'.format(a, score.round(3)))\n",
    "    "
   ]
  },
  {
   "cell_type": "markdown",
   "id": "6ea506d3",
   "metadata": {},
   "source": [
    "Since all of them are the same, we pick **0** "
   ]
  },
  {
   "cell_type": "code",
   "execution_count": null,
   "id": "705bf9bc",
   "metadata": {},
   "outputs": [],
   "source": []
  }
 ],
 "metadata": {
  "kernelspec": {
   "display_name": "Python 3 (ipykernel)",
   "language": "python",
   "name": "python3"
  },
  "language_info": {
   "codemirror_mode": {
    "name": "ipython",
    "version": 3
   },
   "file_extension": ".py",
   "mimetype": "text/x-python",
   "name": "python",
   "nbconvert_exporter": "python",
   "pygments_lexer": "ipython3",
   "version": "3.8.10"
  },
  "vscode": {
   "interpreter": {
    "hash": "df95319d8ce4e1d89f5365ae10992bc1f65da593082b1d264e8f529830ec2f02"
   }
  }
 },
 "nbformat": 4,
 "nbformat_minor": 5
}
